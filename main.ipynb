{
 "cells": [
  {
   "cell_type": "code",
   "execution_count": 1,
   "metadata": {},
   "outputs": [
    {
     "ename": "ModuleNotFoundError",
     "evalue": "No module named 'alpaca'",
     "output_type": "error",
     "traceback": [
      "\u001b[1;31m---------------------------------------------------------------------------\u001b[0m",
      "\u001b[1;31mModuleNotFoundError\u001b[0m                       Traceback (most recent call last)",
      "Cell \u001b[1;32mIn[1], line 2\u001b[0m\n\u001b[0;32m      1\u001b[0m \u001b[39m# For Data\u001b[39;00m\n\u001b[1;32m----> 2\u001b[0m \u001b[39mfrom\u001b[39;00m \u001b[39mData\u001b[39;00m\u001b[39m.\u001b[39;00m\u001b[39mhistorical_data\u001b[39;00m \u001b[39mimport\u001b[39;00m Historical_data\n\u001b[0;32m      3\u001b[0m \u001b[39mfrom\u001b[39;00m \u001b[39malpaca\u001b[39;00m\u001b[39m.\u001b[39;00m\u001b[39mdata\u001b[39;00m\u001b[39m.\u001b[39;00m\u001b[39mtimeframe\u001b[39;00m \u001b[39mimport\u001b[39;00m TimeFrame\n\u001b[0;32m      4\u001b[0m \u001b[39mfrom\u001b[39;00m \u001b[39malpaca\u001b[39;00m\u001b[39m.\u001b[39;00m\u001b[39mdata\u001b[39;00m\u001b[39m.\u001b[39;00m\u001b[39mhistorical\u001b[39;00m \u001b[39mimport\u001b[39;00m CryptoHistoricalDataClient, StockHistoricalDataClient\n",
      "File \u001b[1;32mc:\\Users\\lukas\\Programmering\\Investment AI\\Master-Thesis\\Data\\historical_data.py:1\u001b[0m\n\u001b[1;32m----> 1\u001b[0m \u001b[39mfrom\u001b[39;00m \u001b[39malpaca\u001b[39;00m\u001b[39m.\u001b[39;00m\u001b[39mdata\u001b[39;00m\u001b[39m.\u001b[39;00m\u001b[39mhistorical\u001b[39;00m \u001b[39mimport\u001b[39;00m CryptoHistoricalDataClient, StockHistoricalDataClient\n\u001b[0;32m      2\u001b[0m \u001b[39mfrom\u001b[39;00m \u001b[39malpaca\u001b[39;00m\u001b[39m.\u001b[39;00m\u001b[39mdata\u001b[39;00m\u001b[39m.\u001b[39;00m\u001b[39mrequests\u001b[39;00m \u001b[39mimport\u001b[39;00m  (CryptoBarsRequest, StockBarsRequest,\n\u001b[0;32m      3\u001b[0m     StockQuotesRequest,\n\u001b[0;32m      4\u001b[0m     StockTradesRequest,\n\u001b[1;32m   (...)\u001b[0m\n\u001b[0;32m      7\u001b[0m     StockSnapshotRequest,\n\u001b[0;32m      8\u001b[0m     StockLatestBarRequest)\n\u001b[0;32m      9\u001b[0m \u001b[39mfrom\u001b[39;00m \u001b[39malpaca\u001b[39;00m\u001b[39m.\u001b[39;00m\u001b[39mdata\u001b[39;00m\u001b[39m.\u001b[39;00m\u001b[39mtimeframe\u001b[39;00m \u001b[39mimport\u001b[39;00m TimeFrame\n",
      "\u001b[1;31mModuleNotFoundError\u001b[0m: No module named 'alpaca'"
     ]
    }
   ],
   "source": [
    "# For Data\n",
    "from Data.historical_data import Historical_data\n",
    "from alpaca.data.timeframe import TimeFrame\n",
    "from alpaca.data.historical import CryptoHistoricalDataClient, StockHistoricalDataClient\n",
    "\n",
    "import pandas as pd\n",
    "from Preprocessing.preprocessing import preprocessing_improved\n",
    "from Models.LSTM.lightningLSTM import LightningLSTM\n",
    "import torch\n",
    "from torch.utils.data import Dataset, DataLoader\n",
    "from pytorch_lightning.callbacks import ModelCheckpoint, EarlyStopping\n",
    "from pytorch_lightning.loggers import TensorBoardLogger\n",
    "from Preprocessing.dataclasses import StockPriceDataModule, StockDataset\n",
    "import pytorch_lightning as pl"
   ]
  },
  {
   "cell_type": "code",
   "execution_count": 2,
   "metadata": {},
   "outputs": [],
   "source": [
    "new_data = False\n",
    "\n",
    "if new_data:\n",
    "\n",
    "    stocks = [['AAPL'], ['MSFT'], ['GOOG'], ['TSLA'], ['NVDA']]\n",
    "\n",
    "    for stock in stocks:\n",
    "\n",
    "        timeframes = [TimeFrame.Day, TimeFrame.Hour, TimeFrame.Minute]\n",
    "        time_strings = ['Day', 'Hour', 'Minute']\n",
    "\n",
    "        for timeframe, time_string in zip(timeframes, time_strings):\n",
    "\n",
    "            s_type = \"StockBars\"\n",
    "            stock = stock\n",
    "            timeframe = timeframe\n",
    "            start = \"2020-08-20 06:00:00\"\n",
    "            end = \"2021-08-20 06:00:00\"\n",
    "            client = StockHistoricalDataClient(\"PKV7BABG3DGE0GYL137W\", \"af1eQghpVgbyX2lh2T9n2ColmVYXHCWndQbKR3Lr\")\n",
    "            save_csv = True\n",
    "            time_string = time_string\n",
    "\n",
    "            df = Historical_data(s_type = s_type, stock = stock, timeframe = timeframe, start = start, end = end, client = client, save_csv = save_csv , time_string = time_string)\n",
    "\n",
    "else:\n",
    "\n",
    "    df = pd.read_csv('Data\\Stock\\StockBars\\MSFT_Minute')"
   ]
  },
  {
   "cell_type": "code",
   "execution_count": 3,
   "metadata": {},
   "outputs": [
    {
     "name": "stdout",
     "output_type": "stream",
     "text": [
      "dict_keys(['sequence', 'label'])\n",
      "torch.Size([8, 100, 8])\n",
      "torch.Size([8])\n"
     ]
    }
   ],
   "source": [
    "data_train, data_test = preprocessing_improved(df = df[:int(len(df)*0.1)], lag = 1, sequence_length=100, dif_all=True, train_size=0.9 )\n",
    "data_module = StockPriceDataModule(train_sequence = data_train,  test_sequence= data_test, batch_size=8, num_workers = 4)\n",
    "data_module.setup()\n",
    "\n",
    "for item in data_module.train_dataloader():\n",
    "    print(item.keys())\n",
    "    print(item['sequence'].shape)\n",
    "    print(item['label'].shape)\n",
    "    break\n"
   ]
  },
  {
   "cell_type": "code",
   "execution_count": 4,
   "metadata": {},
   "outputs": [
    {
     "name": "stderr",
     "output_type": "stream",
     "text": [
      "GPU available: False, used: False\n",
      "TPU available: False, using: 0 TPU cores\n",
      "IPU available: False, using: 0 IPUs\n",
      "HPU available: False, using: 0 HPUs\n",
      "\n",
      "  | Name      | Type    | Params\n",
      "--------------------------------------\n",
      "0 | model     | LSTM    | 811   \n",
      "1 | criterion | MSELoss | 0     \n",
      "--------------------------------------\n",
      "811       Trainable params\n",
      "0         Non-trainable params\n",
      "811       Total params\n",
      "0.003     Total estimated model params size (MB)\n"
     ]
    },
    {
     "data": {
      "application/vnd.jupyter.widget-view+json": {
       "model_id": "3f0d061b67de412fa9341033a44b1d2e",
       "version_major": 2,
       "version_minor": 0
      },
      "text/plain": [
       "Sanity Checking: 0it [00:00, ?it/s]"
      ]
     },
     "metadata": {},
     "output_type": "display_data"
    },
    {
     "data": {
      "application/vnd.jupyter.widget-view+json": {
       "model_id": "e17c6d21af9747818b5c2beff71d888f",
       "version_major": 2,
       "version_minor": 0
      },
      "text/plain": [
       "Training: 0it [00:00, ?it/s]"
      ]
     },
     "metadata": {},
     "output_type": "display_data"
    },
    {
     "data": {
      "application/vnd.jupyter.widget-view+json": {
       "model_id": "519f3d501d0842bda94bf64abce44433",
       "version_major": 2,
       "version_minor": 0
      },
      "text/plain": [
       "Validation: 0it [00:00, ?it/s]"
      ]
     },
     "metadata": {},
     "output_type": "display_data"
    },
    {
     "data": {
      "application/vnd.jupyter.widget-view+json": {
       "model_id": "d12dc905ed1747b6a807e441f9c65cd6",
       "version_major": 2,
       "version_minor": 0
      },
      "text/plain": [
       "Validation: 0it [00:00, ?it/s]"
      ]
     },
     "metadata": {},
     "output_type": "display_data"
    },
    {
     "data": {
      "application/vnd.jupyter.widget-view+json": {
       "model_id": "79a12903c29b41f4903a6a0db8b954ff",
       "version_major": 2,
       "version_minor": 0
      },
      "text/plain": [
       "Validation: 0it [00:00, ?it/s]"
      ]
     },
     "metadata": {},
     "output_type": "display_data"
    },
    {
     "data": {
      "application/vnd.jupyter.widget-view+json": {
       "model_id": "77dd7261ea1f4e0e957ba71b8c194cf7",
       "version_major": 2,
       "version_minor": 0
      },
      "text/plain": [
       "Validation: 0it [00:00, ?it/s]"
      ]
     },
     "metadata": {},
     "output_type": "display_data"
    },
    {
     "data": {
      "application/vnd.jupyter.widget-view+json": {
       "model_id": "f6c022b7f7b54b4c838107dc41d13ae5",
       "version_major": 2,
       "version_minor": 0
      },
      "text/plain": [
       "Validation: 0it [00:00, ?it/s]"
      ]
     },
     "metadata": {},
     "output_type": "display_data"
    },
    {
     "name": "stderr",
     "output_type": "stream",
     "text": [
      "`Trainer.fit` stopped: `max_epochs=5` reached.\n"
     ]
    }
   ],
   "source": [
    "model = LightningLSTM(input_size=8, hidden_size = 10, num_layers = 1)\n",
    "trainer = pl.Trainer(max_epochs=5)\n",
    "trainer.fit(model, data_module)"
   ]
  }
 ],
 "metadata": {
  "kernelspec": {
   "display_name": "Python 3.8.16 ('master')",
   "language": "python",
   "name": "python3"
  },
  "language_info": {
   "codemirror_mode": {
    "name": "ipython",
    "version": 3
   },
   "file_extension": ".py",
   "mimetype": "text/x-python",
   "name": "python",
   "nbconvert_exporter": "python",
   "pygments_lexer": "ipython3",
   "version": "3.8.16"
  },
  "orig_nbformat": 4,
  "vscode": {
   "interpreter": {
    "hash": "4020f2ec69401119832b24a58596983a5bdd86d7780e42311434d3b5edd8a9d3"
   }
  }
 },
 "nbformat": 4,
 "nbformat_minor": 2
}

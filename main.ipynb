{
 "cells": [
  {
   "cell_type": "markdown",
   "metadata": {},
   "source": [
    "Imported libraries"
   ]
  },
  {
   "cell_type": "code",
   "execution_count": 1,
   "metadata": {},
   "outputs": [],
   "source": [
    "import pandas as pd\n",
    "\n",
    "# For Data\n",
    "from Data.historical_data import Historical_data\n",
    "from alpaca.data.timeframe import TimeFrame\n",
    "from alpaca.data.historical import CryptoHistoricalDataClient, StockHistoricalDataClient\n",
    "\n",
    "# For preprocessing\n",
    "from Preprocessing.preprocessing import Preprocessing\n",
    "\n",
    "# For model\n",
    "from Models.LSTM.lstm import LSTM"
   ]
  },
  {
   "cell_type": "markdown",
   "metadata": {},
   "source": [
    "Data and Preprocessing"
   ]
  },
  {
   "cell_type": "code",
   "execution_count": 2,
   "metadata": {},
   "outputs": [],
   "source": [
    "s_type = \"StockBars\"\n",
    "stock = [\"AAPL\"]\n",
    "timeframe = TimeFrame.Hour\n",
    "start = \"2021-08-19 06:00:00\"\n",
    "end = \"2022-08-20 06:00:00\"\n",
    "client = StockHistoricalDataClient(\"PKV7BABG3DGE0GYL137W\", \"af1eQghpVgbyX2lh2T9n2ColmVYXHCWndQbKR3Lr\")\n",
    "save_csv = False\n",
    "\n",
    "df = Historical_data(s_type = s_type, stock = stock, timeframe = timeframe, start = start, end = end, client = client, save_csv = save_csv)\n",
    "df_tuple = Preprocessing(df)"
   ]
  },
  {
   "cell_type": "markdown",
   "metadata": {},
   "source": [
    "Train model"
   ]
  },
  {
   "cell_type": "code",
   "execution_count": 3,
   "metadata": {},
   "outputs": [
    {
     "ename": "NameError",
     "evalue": "name 'LSTM1' is not defined",
     "output_type": "error",
     "traceback": [
      "\u001b[1;31m---------------------------------------------------------------------------\u001b[0m",
      "\u001b[1;31mNameError\u001b[0m                                 Traceback (most recent call last)",
      "\u001b[1;32mc:\\Users\\lukas\\Programmering\\Investment AI\\Master-Thesis\\main.ipynb Cell 6\u001b[0m in \u001b[0;36m<cell line: 10>\u001b[1;34m()\u001b[0m\n\u001b[0;32m      <a href='vscode-notebook-cell:/c%3A/Users/lukas/Programmering/Investment%20AI/Master-Thesis/main.ipynb#X31sZmlsZQ%3D%3D?line=5'>6</a>\u001b[0m num_layers \u001b[39m=\u001b[39m \u001b[39m1\u001b[39m \u001b[39m#number of stacked lstm layers\u001b[39;00m\n\u001b[0;32m      <a href='vscode-notebook-cell:/c%3A/Users/lukas/Programmering/Investment%20AI/Master-Thesis/main.ipynb#X31sZmlsZQ%3D%3D?line=7'>8</a>\u001b[0m num_classes \u001b[39m=\u001b[39m \u001b[39m1\u001b[39m \u001b[39m#number of output classes \u001b[39;00m\n\u001b[1;32m---> <a href='vscode-notebook-cell:/c%3A/Users/lukas/Programmering/Investment%20AI/Master-Thesis/main.ipynb#X31sZmlsZQ%3D%3D?line=9'>10</a>\u001b[0m lstm1 \u001b[39m=\u001b[39m LSTM(num_classes, input_size, hidden_size, num_layers, df_tuple[\u001b[39m0\u001b[39;49m]\u001b[39m.\u001b[39;49mshape[\u001b[39m1\u001b[39;49m])\n",
      "File \u001b[1;32mc:\\Users\\lukas\\Programmering\\Investment AI\\Master-Thesis\\Models\\LSTM\\lstm.py:8\u001b[0m, in \u001b[0;36mLSTM.__init__\u001b[1;34m(self, num_classes, input_size, hidden_size, num_layers, seq_length)\u001b[0m\n\u001b[0;32m      7\u001b[0m \u001b[39mdef\u001b[39;00m \u001b[39m__init__\u001b[39m(\u001b[39mself\u001b[39m, num_classes, input_size, hidden_size, num_layers, seq_length):\n\u001b[1;32m----> 8\u001b[0m     \u001b[39msuper\u001b[39m(LSTM1, \u001b[39mself\u001b[39m)\u001b[39m.\u001b[39m\u001b[39m__init__\u001b[39m()\n\u001b[0;32m      9\u001b[0m     \u001b[39mself\u001b[39m\u001b[39m.\u001b[39mnum_classes \u001b[39m=\u001b[39m num_classes \u001b[39m#number of classes\u001b[39;00m\n\u001b[0;32m     10\u001b[0m     \u001b[39mself\u001b[39m\u001b[39m.\u001b[39mnum_layers \u001b[39m=\u001b[39m num_layers \u001b[39m#number of layers\u001b[39;00m\n",
      "\u001b[1;31mNameError\u001b[0m: name 'LSTM1' is not defined"
     ]
    }
   ],
   "source": [
    "\n",
    "num_epochs = 1000 #1000 epochs\n",
    "learning_rate = 0.001 #0.001 lr\n",
    "\n",
    "input_size = 7 #number of features\n",
    "hidden_size = 2 #number of features in hidden state\n",
    "num_layers = 1 #number of stacked lstm layers\n",
    "\n",
    "num_classes = 1 #number of output classes \n",
    "\n",
    "lstm = LSTM(num_classes, input_size, hidden_size, num_layers, df_tuple[0].shape[1]) #our lstm class \n",
    "\n",
    "\n"
   ]
  }
 ],
 "metadata": {
  "kernelspec": {
   "display_name": "Python 3.9.12 ('base')",
   "language": "python",
   "name": "python3"
  },
  "language_info": {
   "codemirror_mode": {
    "name": "ipython",
    "version": 3
   },
   "file_extension": ".py",
   "mimetype": "text/x-python",
   "name": "python",
   "nbconvert_exporter": "python",
   "pygments_lexer": "ipython3",
   "version": "3.9.12"
  },
  "orig_nbformat": 4,
  "vscode": {
   "interpreter": {
    "hash": "ad2bdc8ecc057115af97d19610ffacc2b4e99fae6737bb82f5d7fb13d2f2c186"
   }
  }
 },
 "nbformat": 4,
 "nbformat_minor": 2
}

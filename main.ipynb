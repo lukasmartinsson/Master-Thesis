{
 "cells": [
  {
   "cell_type": "markdown",
   "metadata": {},
   "source": [
    "Imported libraries"
   ]
  },
  {
   "cell_type": "code",
   "execution_count": 1,
   "metadata": {},
   "outputs": [
    {
     "name": "stderr",
     "output_type": "stream",
     "text": [
      "c:\\Users\\karll\\miniconda3\\lib\\site-packages\\tqdm\\auto.py:22: TqdmWarning: IProgress not found. Please update jupyter and ipywidgets. See https://ipywidgets.readthedocs.io/en/stable/user_install.html\n",
      "  from .autonotebook import tqdm as notebook_tqdm\n"
     ]
    }
   ],
   "source": [
    "import pandas as pd\n",
    "\n",
    "# For Data\n",
    "from Data.historical_data import Historical_data\n",
    "from alpaca.data.timeframe import TimeFrame\n",
    "from alpaca.data.historical import CryptoHistoricalDataClient, StockHistoricalDataClient\n",
    "\n",
    "# For preprocessing\n",
    "from Preprocessing.preprocessing import Preprocessing\n",
    "\n",
    "# For model\n",
    "from Models.LSTM.lstm import LSTM\n",
    "from Evaluation.evaluation import Evaluator_Transformer"
   ]
  },
  {
   "cell_type": "markdown",
   "metadata": {},
   "source": [
    "Data and Preprocessing"
   ]
  },
  {
   "cell_type": "code",
   "execution_count": 2,
   "metadata": {},
   "outputs": [],
   "source": [
    "s_type = \"StockBars\"\n",
    "stock = [\"AAPL\"]\n",
    "timeframe = TimeFrame.Hour\n",
    "start = \"2021-08-19 06:00:00\"\n",
    "end = \"2022-08-20 06:00:00\"\n",
    "client = StockHistoricalDataClient(\"PKV7BABG3DGE0GYL137W\", \"af1eQghpVgbyX2lh2T9n2ColmVYXHCWndQbKR3Lr\")\n",
    "save_csv = False\n",
    "\n",
    "df = Historical_data(s_type = s_type, stock = stock, timeframe = timeframe, start = start, end = end, client = client, save_csv = save_csv)\n",
    "df_tuple = Preprocessing(df, lag=10)"
   ]
  },
  {
   "cell_type": "markdown",
   "metadata": {},
   "source": [
    "Train model"
   ]
  },
  {
   "cell_type": "code",
   "execution_count": 3,
   "metadata": {},
   "outputs": [],
   "source": [
    "\n",
    "num_epochs = 1000 #1000 epochs\n",
    "learning_rate = 0.001 #0.001 lr\n",
    "\n",
    "input_size = 7 #number of features\n",
    "hidden_size = 2 #number of features in hidden state\n",
    "num_layers = 1 #number of stacked lstm layers\n",
    "\n",
    "num_classes = 1 #number of output classes \n",
    "\n",
    "lstm = LSTM(num_classes, input_size, hidden_size, num_layers, df_tuple[0].shape[1]) #our lstm class \n"
   ]
  },
  {
   "cell_type": "code",
   "execution_count": 5,
   "metadata": {},
   "outputs": [
    {
     "name": "stdout",
     "output_type": "stream",
     "text": [
      "Epoch 0, Loss: 1.2602390050888062\n",
      "Epoch 10, Loss: 1.2602100372314453\n",
      "Epoch 20, Loss: 1.260179877281189\n",
      "Epoch 30, Loss: 1.2601380348205566\n",
      "Epoch 40, Loss: 1.2601184844970703\n",
      "Epoch 50, Loss: 1.26010262966156\n",
      "Epoch 60, Loss: 1.2600904703140259\n",
      "Epoch 70, Loss: 1.2600823640823364\n",
      "Epoch 80, Loss: 1.2600771188735962\n",
      "Epoch 90, Loss: 1.2600735425949097\n",
      "Accuracy: 0.4784633219242096\n"
     ]
    }
   ],
   "source": [
    "Evaluator_Transformer(lstm, df_tuple, 0.001)"
   ]
  }
 ],
 "metadata": {
  "kernelspec": {
   "display_name": "base",
   "language": "python",
   "name": "python3"
  },
  "language_info": {
   "codemirror_mode": {
    "name": "ipython",
    "version": 3
   },
   "file_extension": ".py",
   "mimetype": "text/x-python",
   "name": "python",
   "nbconvert_exporter": "python",
   "pygments_lexer": "ipython3",
   "version": "3.9.13"
  },
  "orig_nbformat": 4,
  "vscode": {
   "interpreter": {
    "hash": "adfb25ce21feaa9a3fcc67ce2af0e733a33e84b69e4810e5869c855f113d60a4"
   }
  }
 },
 "nbformat": 4,
 "nbformat_minor": 2
}

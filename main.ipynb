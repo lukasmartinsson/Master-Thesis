{
 "cells": [
  {
   "attachments": {},
   "cell_type": "markdown",
   "metadata": {},
   "source": [
    "Import relevant libraries"
   ]
  },
  {
   "cell_type": "code",
   "execution_count": 1,
   "metadata": {},
   "outputs": [
    {
     "name": "stderr",
     "output_type": "stream",
     "text": [
      "c:\\Users\\karll\\miniconda3\\lib\\site-packages\\tqdm\\auto.py:22: TqdmWarning: IProgress not found. Please update jupyter and ipywidgets. See https://ipywidgets.readthedocs.io/en/stable/user_install.html\n",
      "  from .autonotebook import tqdm as notebook_tqdm\n"
     ]
    },
    {
     "name": "stdout",
     "output_type": "stream",
     "text": [
      "GPU support: False\n",
      "os              : Windows-10-10.0.22621-SP0\n",
      "python          : 3.9.13\n",
      "tsai            : 0.3.5\n",
      "fastai          : 2.7.11\n",
      "fastcore        : 1.5.28\n",
      "torch           : 1.13.1+cpu\n",
      "cpu cores       : 6\n",
      "threads per cpu : 2\n",
      "RAM             : 15.9 GB\n",
      "GPU memory      : [6.0] GB\n"
     ]
    }
   ],
   "source": [
    "import pandas as pd\n",
    "from Preprocessing.preprocessing import preprocessing\n",
    "import time\n",
    "import torch\n",
    "from tsai.all import *\n",
    "import os\n",
    "from Optimizer.optimizer import optimize_model, optimize_data_classification, optimize_data_regression\n",
    "from Evaluation.evaluation_tsai import calculate_pseudo_return, get_plots_classification, get_plots_regression\n",
    "from fastai.callback.tracker import EarlyStoppingCallback\n",
    "\n",
    "print('GPU support:', torch.cuda.is_available())\n",
    "computer_setup()"
   ]
  },
  {
   "cell_type": "code",
   "execution_count": 2,
   "metadata": {},
   "outputs": [
    {
     "data": {
      "text/html": [
       "<div>\n",
       "<style scoped>\n",
       "    .dataframe tbody tr th:only-of-type {\n",
       "        vertical-align: middle;\n",
       "    }\n",
       "\n",
       "    .dataframe tbody tr th {\n",
       "        vertical-align: top;\n",
       "    }\n",
       "\n",
       "    .dataframe thead th {\n",
       "        text-align: right;\n",
       "    }\n",
       "</style>\n",
       "<table border=\"1\" class=\"dataframe\">\n",
       "  <thead>\n",
       "    <tr style=\"text-align: right;\">\n",
       "      <th></th>\n",
       "      <th>model</th>\n",
       "      <th>seq_length</th>\n",
       "      <th>d_model</th>\n",
       "      <th>n_layers</th>\n",
       "      <th>n_heads</th>\n",
       "      <th>d_ff</th>\n",
       "      <th>dropout</th>\n",
       "      <th>learning_rate</th>\n",
       "      <th>val_accuracy</th>\n",
       "      <th>time</th>\n",
       "    </tr>\n",
       "  </thead>\n",
       "  <tbody>\n",
       "    <tr>\n",
       "      <th>0</th>\n",
       "      <td>tst_class</td>\n",
       "      <td>150</td>\n",
       "      <td>64</td>\n",
       "      <td>4</td>\n",
       "      <td>8</td>\n",
       "      <td>512</td>\n",
       "      <td>0.3</td>\n",
       "      <td>0.008840</td>\n",
       "      <td>0.485714</td>\n",
       "      <td>0.007979</td>\n",
       "    </tr>\n",
       "    <tr>\n",
       "      <th>1</th>\n",
       "      <td>tst_class</td>\n",
       "      <td>300</td>\n",
       "      <td>512</td>\n",
       "      <td>2</td>\n",
       "      <td>8</td>\n",
       "      <td>128</td>\n",
       "      <td>0.0</td>\n",
       "      <td>0.000022</td>\n",
       "      <td>0.485714</td>\n",
       "      <td>0.025931</td>\n",
       "    </tr>\n",
       "    <tr>\n",
       "      <th>2</th>\n",
       "      <td>tst_class</td>\n",
       "      <td>100</td>\n",
       "      <td>64</td>\n",
       "      <td>1</td>\n",
       "      <td>32</td>\n",
       "      <td>256</td>\n",
       "      <td>0.3</td>\n",
       "      <td>0.001682</td>\n",
       "      <td>0.474286</td>\n",
       "      <td>0.002990</td>\n",
       "    </tr>\n",
       "    <tr>\n",
       "      <th>3</th>\n",
       "      <td>tst_class</td>\n",
       "      <td>50</td>\n",
       "      <td>256</td>\n",
       "      <td>2</td>\n",
       "      <td>32</td>\n",
       "      <td>128</td>\n",
       "      <td>0.3</td>\n",
       "      <td>0.005856</td>\n",
       "      <td>0.462857</td>\n",
       "      <td>0.008975</td>\n",
       "    </tr>\n",
       "    <tr>\n",
       "      <th>4</th>\n",
       "      <td>tst_class</td>\n",
       "      <td>150</td>\n",
       "      <td>512</td>\n",
       "      <td>2</td>\n",
       "      <td>32</td>\n",
       "      <td>1024</td>\n",
       "      <td>0.0</td>\n",
       "      <td>0.009368</td>\n",
       "      <td>0.488235</td>\n",
       "      <td>0.058642</td>\n",
       "    </tr>\n",
       "  </tbody>\n",
       "</table>\n",
       "</div>"
      ],
      "text/plain": [
       "       model  seq_length  d_model  n_layers  n_heads  d_ff  dropout  \\\n",
       "0  tst_class         150       64         4        8   512      0.3   \n",
       "1  tst_class         300      512         2        8   128      0.0   \n",
       "2  tst_class         100       64         1       32   256      0.3   \n",
       "3  tst_class          50      256         2       32   128      0.3   \n",
       "4  tst_class         150      512         2       32  1024      0.0   \n",
       "\n",
       "   learning_rate  val_accuracy      time  \n",
       "0       0.008840      0.485714  0.007979  \n",
       "1       0.000022      0.485714  0.025931  \n",
       "2       0.001682      0.474286  0.002990  \n",
       "3       0.005856      0.462857  0.008975  \n",
       "4       0.009368      0.488235  0.058642  "
      ]
     },
     "execution_count": 2,
     "metadata": {},
     "output_type": "execute_result"
    }
   ],
   "source": [
    "from Optimizer.optimizer import optimize_model\n",
    "\n",
    "df = pd.read_csv('Data\\Stock\\StockBars\\MSFT_Minute')\n",
    " \n",
    "preprocessing_params = {\n",
    "    'df': df[:1000],\n",
    "    'lag': 1,\n",
    "    'dif_all': True,\n",
    "    'train_size': 0.8,\n",
    "    'TSAI': True,\n",
    "    'CLF': True,\n",
    "    'index': None,\n",
    "    'data': \"alpacca\",\n",
    "    'buckets': 1\n",
    "}\n",
    "\n",
    "model_type = 'tst_class'\n",
    "\n",
    "opti = False\n",
    "if opti:\n",
    "    optimize_model(model_type=model_type, preprocessing_params=preprocessing_params, n_trials=1, n_epochs=2)\n",
    "\n",
    "results_df = pd.read_csv(f\"models/{model_type}/{model_type}_hyperparameters_results.csv\")\n",
    "results_df"
   ]
  },
  {
   "cell_type": "code",
   "execution_count": 2,
   "metadata": {},
   "outputs": [
    {
     "name": "stderr",
     "output_type": "stream",
     "text": [
      "\u001b[32m[I 2023-03-23 13:52:07,490]\u001b[0m A new study created in memory with name: no-name-814ec68a-9c07-4615-b132-24e6b3b5388f\u001b[0m\n"
     ]
    },
    {
     "name": "stdout",
     "output_type": "stream",
     "text": [
      "after null10000\n",
      "9998\n",
      "9998\n"
     ]
    },
    {
     "name": "stderr",
     "output_type": "stream",
     "text": [
      "\u001b[32m[I 2023-03-23 13:52:11,636]\u001b[0m Trial 0 finished with value: 0.48848848848848847 and parameters: {'buckets': 10, 'dif_all': False, 'TI': False, 'index': '1min', 'batch_size': 128}. Best is trial 0 with value: 0.48848848848848847.\u001b[0m\n"
     ]
    },
    {
     "name": "stdout",
     "output_type": "stream",
     "text": [
      "after null10000\n",
      "9998\n",
      "9998\n"
     ]
    },
    {
     "name": "stderr",
     "output_type": "stream",
     "text": [
      "\u001b[32m[I 2023-03-23 13:52:23,406]\u001b[0m Trial 1 finished with value: 0.4914914914914915 and parameters: {'buckets': 8, 'dif_all': False, 'TI': False, 'index': None, 'batch_size': 16}. Best is trial 1 with value: 0.4914914914914915.\u001b[0m\n"
     ]
    },
    {
     "name": "stdout",
     "output_type": "stream",
     "text": [
      "after null10000\n",
      "9998\n",
      "9998\n"
     ]
    },
    {
     "name": "stderr",
     "output_type": "stream",
     "text": [
      "\u001b[32m[I 2023-03-23 13:52:37,329]\u001b[0m Trial 2 finished with value: 0.5385385385385385 and parameters: {'buckets': 8, 'dif_all': True, 'TI': False, 'index': None, 'batch_size': 16}. Best is trial 2 with value: 0.5385385385385385.\u001b[0m\n"
     ]
    },
    {
     "name": "stdout",
     "output_type": "stream",
     "text": [
      "after null10000\n",
      "9998\n",
      "9998\n"
     ]
    },
    {
     "name": "stderr",
     "output_type": "stream",
     "text": [
      "\u001b[32m[I 2023-03-23 13:52:43,430]\u001b[0m Trial 3 finished with value: 0.5075075075075075 and parameters: {'buckets': 11, 'dif_all': False, 'TI': False, 'index': None, 'batch_size': 64}. Best is trial 2 with value: 0.5385385385385385.\u001b[0m\n"
     ]
    },
    {
     "name": "stdout",
     "output_type": "stream",
     "text": [
      "after null9977\n",
      "9975\n",
      "9975\n"
     ]
    },
    {
     "name": "stderr",
     "output_type": "stream",
     "text": [
      "\u001b[32m[I 2023-03-23 13:52:49,579]\u001b[0m Trial 4 finished with value: 0.4974924774322969 and parameters: {'buckets': 15, 'dif_all': True, 'TI': True, 'index': None, 'batch_size': 64}. Best is trial 2 with value: 0.5385385385385385.\u001b[0m\n"
     ]
    }
   ],
   "source": [
    "from Optimizer.optimizer import optimize_data_classification, optimize_data_regression\n",
    "\n",
    "model = \"lstm\"\n",
    "df = pd.read_csv('Data\\\\twelve_data\\AAPL_1min')\n",
    "timestep = '1min'\n",
    "epochs = 10\n",
    "trials = 80\n",
    "\n",
    "\n",
    "#preprocessing(df[:1000],data='twelve',index = '1min')\n",
    "\n",
    "optimize_data_classification()\n"
   ]
  },
  {
   "cell_type": "code",
   "execution_count": null,
   "metadata": {},
   "outputs": [
    {
     "data": {
      "text/plain": [
       "{'seq_length': 150,\n",
       " 'batch_size': 128,\n",
       " 'learning_rate': 0.009367651744319094,\n",
       " 'd_model': 512,\n",
       " 'n_layers': 2,\n",
       " 'n_heads': 32,\n",
       " 'd_ff': 1024,\n",
       " 'dropout': 0.0}"
      ]
     },
     "execution_count": 5,
     "metadata": {},
     "output_type": "execute_result"
    }
   ],
   "source": [
    "model_type = 'tst_class'\n",
    "\n",
    "with open(f\"models/{model_type}/{model_type}_best_params.json\", \"r\") as f:\n",
    "    best_params = json.load(f)\n",
    "\n",
    "best_params"
   ]
  },
  {
   "attachments": {},
   "cell_type": "markdown",
   "metadata": {},
   "source": [
    "Select a stock for Machine Learning Model Training and preprocesses it"
   ]
  },
  {
   "cell_type": "code",
   "execution_count": null,
   "metadata": {},
   "outputs": [
    {
     "name": "stdout",
     "output_type": "stream",
     "text": [
      "   Label  Count  Train count  Test count  Bucket min  Bucket max\n",
      "0    0.0    432          338          93     -1.0488     -0.0001\n",
      "1    1.0    566          460         106      0.0000      0.9588\n",
      "2  Total    998          798         199     -1.0488      0.9588\n"
     ]
    }
   ],
   "source": [
    "# Preprocess the data using a custom function and split it into training and testing sets\n",
    "# Only the training and testing sets are used, so the third variable (a scalar) is discarded using an underscore\n",
    "\n",
    "seq_length = best_params.pop('seq_length', None)\n",
    "data_train, data_test, _ = preprocessing(**preprocessing_params, sequence_length=seq_length, print_info=True)\n",
    "\n",
    "# Changes the data into features and labels with the split used later in TSAI for modelling\n",
    "X, y, splits = combine_split_data([data_train[0], data_test[0]],[data_train[1], data_test[1]])\n",
    "\n",
    "# Utilizes the GPU if possible\n",
    "if torch.cuda.is_available(): X, y = X.cuda(), y.cuda()\n",
    "\n",
    "batch_size = best_params.pop('batch_size', None)\n",
    "dsets = TSDatasets(X, y, splits=splits)\n",
    "dls = TSDataLoaders.from_dsets(dsets.train, dsets.valid, bs=batch_size)\n",
    "\n",
    "# Note this tabel is before sequenceing so the actuall values is total - sequence then times train_size"
   ]
  },
  {
   "attachments": {},
   "cell_type": "markdown",
   "metadata": {},
   "source": [
    "Initializes the models and learners"
   ]
  },
  {
   "cell_type": "code",
   "execution_count": null,
   "metadata": {},
   "outputs": [],
   "source": [
    "nr_features = X.shape[1] # Number of features\n",
    "nr_labels = torch.unique(y).numel() # Number of labels\n",
    "\n",
    "model_params = {key: value for key, value in best_params.items() if key not in ('seq_length', 'batch_size', 'learning_rate')}\n",
    "\n",
    "# Initiates the models\n",
    "if model_type == 'lstm_class': model = LSTMPlus(c_in=nr_features, c_out=nr_labels, seq_len=seq_length)\n",
    "if model_type == 'lstm_fcn_class': model = LSTM_FCNPlus(c_in=nr_features, c_out=nr_labels, **model_params, shuffle=False)\n",
    "if model_type == 'tst_class': model = TST(c_in=nr_features, c_out=nr_labels, seq_len=seq_length)\n",
    "\n",
    "# Create Learner objects\n",
    "binary_classification_metrics = [accuracy]\n",
    "\n",
    "# Initiates a learner\n",
    "learner = Learner(dls, model, loss_func=LabelSmoothingCrossEntropyFlat(), metrics=accuracy, cbs=[EarlyStoppingCallback(patience=5)])\n",
    "\n",
    "# Trains the model\n",
    "epochs = 100\n",
    "learner.fit_one_cycle(n_epoch = epochs)\n",
    "\n",
    "if torch.cuda.is_available(): X, y = X.cpu(), y.cpu()\n",
    "\n",
    "# Save the model\n",
    "if model_type == 'lstm_class': model_name = \"trained_lstm\"\n",
    "if model_type == 'lstm_fcn_class': model_name = \"trained_lstm_fcn\"\n",
    "if model_type == 'tst_class': model_name = \"trained_tst\"\n",
    "\n",
    "learner.save(model_name)\n",
    "\n",
    "#calculate_pseudo_return(lag = preprocessing_params.pop('lag', None), sequence_length = seq_length, splits = splits, df = df, predictions, transaction_cost = 0)\n",
    "get_plots_classification(learner, X, y, splits, 1)"
   ]
  },
  {
   "cell_type": "code",
   "execution_count": null,
   "metadata": {},
   "outputs": [
    {
     "data": {
      "image/png": "[encoded data removed]",
      "text/plain": [
       "<Figure size 640x480 with 2 Axes>"
      ]
     },
     "metadata": {},
     "output_type": "display_data"
    },
    {
     "data": {
      "image/png": "[encoded data removed]",
      "text/plain": [
       "<Figure size 640x480 with 2 Axes>"
      ]
     },
     "metadata": {},
     "output_type": "display_data"
    },
    {
     "data": {
      "image/png": "[encoded data removed]",
      "text/plain": [
       "<Figure size 640x480 with 1 Axes>"
      ]
     },
     "metadata": {},
     "output_type": "display_data"
    }
   ],
   "source": [
    "#Add plots automatically\n",
    "from Evaluation.evaluation_tsai import calculate_pseudo_return, get_plots_classification\n",
    "\n",
    "get_plots_classification(learners['TST'], X, y, splits, 1)\n",
    "calculate_pseudo_return"
   ]
  }
 ],
 "metadata": {
  "kernelspec": {
   "display_name": "ai",
   "language": "python",
   "name": "python3"
  },
  "language_info": {
   "codemirror_mode": {
    "name": "ipython",
    "version": 3
   },
   "file_extension": ".py",
   "mimetype": "text/x-python",
   "name": "python",
   "nbconvert_exporter": "python",
   "pygments_lexer": "ipython3",
   "version": "3.9.13"
  },
  "orig_nbformat": 4,
  "vscode": {
   "interpreter": {
    "hash": "68687a499e0775bfb06d4a0c91954dfe7dcdc7f84c6d272d4d4615fc1c039e3a"
   }
  }
 },
 "nbformat": 4,
 "nbformat_minor": 2
}

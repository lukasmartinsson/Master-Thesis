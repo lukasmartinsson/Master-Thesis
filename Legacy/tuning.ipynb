{
 "cells": [
  {
   "cell_type": "code",
   "execution_count": 1,
   "metadata": {},
   "outputs": [
    {
     "data": {
      "text/plain": [
       "True"
      ]
     },
     "execution_count": 1,
     "metadata": {},
     "output_type": "execute_result"
    }
   ],
   "source": [
    "import torch\n",
    "torch.cuda.is_available()"
   ]
  },
  {
   "cell_type": "code",
   "execution_count": 2,
   "metadata": {},
   "outputs": [],
   "source": [
    "import pandas as pd\n",
    "from Preprocessing.preprocessing import preprocessing\n",
    "from Models.LSTM.lightningLSTM import LightningLSTM\n",
    "from Preprocessing.dataclasses import StockPriceDataModule\n",
    "import pytorch_lightning as pl\n",
    "from pytorch_lightning.callbacks import ModelCheckpoint, EarlyStopping, TQDMProgressBar, StochasticWeightAveraging\n",
    "import matplotlib.pyplot as plt\n",
    "from hyperopt import fmin, tpe, hp, Trials\n",
    "import time\n",
    "import pickle\n",
    "import os\n",
    "import pandas as pd\n",
    "from sklearn.preprocessing import MinMaxScaler"
   ]
  },
  {
   "cell_type": "code",
   "execution_count": 18,
   "metadata": {},
   "outputs": [
    {
     "name": "stdout",
     "output_type": "stream",
     "text": [
      "Resuming search with 14 trials\n",
      " 93%|█████████▎| 14/15 [00:00<?, ?trial/s, best loss=?]"
     ]
    },
    {
     "name": "stderr",
     "output_type": "stream",
     "text": [
      "GPU available: True (cuda), used: True\n",
      "TPU available: False, using: 0 TPU cores\n",
      "IPU available: False, using: 0 IPUs\n",
      "HPU available: False, using: 0 HPUs\n",
      "LOCAL_RANK: 0 - CUDA_VISIBLE_DEVICES: [0]\n",
      "\n",
      "  | Name      | Type    | Params\n",
      "--------------------------------------\n",
      "0 | model     | LSTM    | 203 K \n",
      "1 | criterion | MSELoss | 0     \n",
      "--------------------------------------\n",
      "203 K     Trainable params\n",
      "0         Non-trainable params\n",
      "203 K     Total params\n",
      "0.814     Total estimated model params size (MB)\n"
     ]
    },
    {
     "data": {
      "application/vnd.jupyter.widget-view+json": {
       "model_id": "208fbd7f58b847b292048b78e6252c93",
       "version_major": 2,
       "version_minor": 0
      },
      "text/plain": [
       "Training: 0it [00:00, ?it/s]"
      ]
     },
     "metadata": {},
     "output_type": "display_data"
    },
    {
     "name": "stderr",
     "output_type": "stream",
     "text": [
      "`Trainer.fit` stopped: `max_epochs=5` reached.\n",
      "LOCAL_RANK: 0 - CUDA_VISIBLE_DEVICES: [0]\n"
     ]
    },
    {
     "data": {
      "application/vnd.jupyter.widget-view+json": {
       "model_id": "f8c72829e787431598818e1c14d49fc8",
       "version_major": 2,
       "version_minor": 0
      },
      "text/plain": [
       "Testing: 0it [00:00, ?it/s]"
      ]
     },
     "metadata": {},
     "output_type": "display_data"
    },
    {
     "data": {
      "text/html": [
       "<pre style=\"white-space:pre;overflow-x:auto;line-height:normal;font-family:Menlo,'DejaVu Sans Mono',consolas,'Courier New',monospace\">┏━━━━━━━━━━━━━━━━━━━━━━━━━━━┳━━━━━━━━━━━━━━━━━━━━━━━━━━━┓\n",
       "┃<span style=\"font-weight: bold\">        Test metric        </span>┃<span style=\"font-weight: bold\">       DataLoader 0        </span>┃\n",
       "┡━━━━━━━━━━━━━━━━━━━━━━━━━━━╇━━━━━━━━━━━━━━━━━━━━━━━━━━━┩\n",
       "│<span style=\"color: #008080; text-decoration-color: #008080\">         test_loss         </span>│<span style=\"color: #800080; text-decoration-color: #800080\">    1.9169902801513672     </span>│\n",
       "└───────────────────────────┴───────────────────────────┘\n",
       "</pre>\n"
      ],
      "text/plain": [
       "┏━━━━━━━━━━━━━━━━━━━━━━━━━━━┳━━━━━━━━━━━━━━━━━━━━━━━━━━━┓\n",
       "┃\u001b[1m \u001b[0m\u001b[1m       Test metric       \u001b[0m\u001b[1m \u001b[0m┃\u001b[1m \u001b[0m\u001b[1m      DataLoader 0       \u001b[0m\u001b[1m \u001b[0m┃\n",
       "┡━━━━━━━━━━━━━━━━━━━━━━━━━━━╇━━━━━━━━━━━━━━━━━━━━━━━━━━━┩\n",
       "│\u001b[36m \u001b[0m\u001b[36m        test_loss        \u001b[0m\u001b[36m \u001b[0m│\u001b[35m \u001b[0m\u001b[35m   1.9169902801513672    \u001b[0m\u001b[35m \u001b[0m│\n",
       "└───────────────────────────┴───────────────────────────┘\n"
      ]
     },
     "metadata": {},
     "output_type": "display_data"
    },
    {
     "name": "stdout",
     "output_type": "stream",
     "text": [
      "100%|██████████| 15/15 [06:11<00:00, 371.58s/trial, best loss: 1.715910792350769]\n"
     ]
    }
   ],
   "source": [
    "df = pd.read_csv('Data\\Stock\\StockBars\\MSFT_Minute')\n",
    "\n",
    "# Check if there is a saved Trials object and load it if it exists\n",
    "if os.path.isfile('trials.pkl'):\n",
    "    with open('trials.pkl', 'rb') as f:\n",
    "        trials = pickle.load(f)\n",
    "else:\n",
    "    trials = Trials()\n",
    "\n",
    "def objective(params):\n",
    "\n",
    "    # Set the hyperparameters, batch size, and sequence length\n",
    "    LEARNING_RATE = params['learning_rate']\n",
    "    BATCH_SIZE = params['batch_size']\n",
    "    SEQUENCE_LENGTH = params['sequence_length']\n",
    "    HIDDEN_SIZE = params['hidden_size']\n",
    "    NUM_LAYERS = params['num_layers']\n",
    "    \n",
    "    data_train, data_test, _ = preprocessing(df=df, lag=1, sequence_length=SEQUENCE_LENGTH, dif_all=True, train_size=0.99)\n",
    "\n",
    "    # Create the data module with the given batch size and sequence length\n",
    "    data_module = StockPriceDataModule(train_sequence=data_train, test_sequence=data_test, batch_size=BATCH_SIZE, num_workers=4)\n",
    "    data_module.setup()\n",
    "\n",
    "    # Create the Lightning module with the given hyperparameters\n",
    "    model = LightningLSTM(input_size=9, hidden_size=HIDDEN_SIZE, num_layers=NUM_LAYERS, learning_rate=LEARNING_RATE)\n",
    "\n",
    "    # Train the model for a fixed number of epochs and measure the training time\n",
    "    start_time = time.time()\n",
    "    \n",
    "    trainer = pl.Trainer(max_epochs=5, callbacks=[TQDMProgressBar(refresh_rate=100)], accelerator=\"gpu\", devices=1, limit_val_batches=0)\n",
    "    trainer.fit(model, data_module)\n",
    "\n",
    "    training_time = time.time() - start_time\n",
    "\n",
    "    # Evaluate the model on the test set and return the loss\n",
    "    test_loss = trainer.test(model, data_module)[0]['test_loss']\n",
    "    \n",
    "    # Log the performance for the current hyperparameter configuration\n",
    "    log_dict = {\n",
    "        'learning_rate': LEARNING_RATE,\n",
    "        'batch_size': BATCH_SIZE,\n",
    "        'sequence_length': SEQUENCE_LENGTH,\n",
    "        'hidden_size': HIDDEN_SIZE,\n",
    "        'num_layers': NUM_LAYERS,\n",
    "        'test_loss': test_loss,\n",
    "        'training_time': training_time\n",
    "    }\n",
    "\n",
    "    # Save the results to a text file\n",
    "    result_file = 'results.txt'\n",
    "    if os.path.exists(result_file) and os.path.getsize(result_file) > 0:\n",
    "        with open(result_file, 'a') as f:\n",
    "            # Write the results for the current hyperparameter configuration to the file\n",
    "            f.write(','.join([str(log_dict[col]) for col in log_dict.keys()]) + '\\n')\n",
    "    else:\n",
    "        with open(result_file, 'a') as f:\n",
    "            # Write the column names to the file\n",
    "            f.write(','.join(log_dict.keys()) + '\\n')\n",
    "            # Write the results for the current hyperparameter configuration to the file\n",
    "            f.write(','.join([str(log_dict[col]) for col in log_dict.keys()]) + '\\n')\n",
    "\n",
    "    # Return the test loss\n",
    "    return test_loss\n",
    "\n",
    "space = {\n",
    "    'learning_rate': hp.loguniform('learning_rate', -6, -1),\n",
    "    'batch_size': hp.choice('batch_size', [16, 32, 64, 128]),\n",
    "    'sequence_length': hp.choice('sequence_length', [32, 64, 128, 256]),  \n",
    "    'hidden_size': hp.choice('hidden_size', [64, 80, 96, 112, 128, 256, 512]),\n",
    "    'num_layers': hp.choice('num_layers', [1, 2, 3])\n",
    "}\n",
    "\n",
    "# Set the maximum number of evaluations for the hyperparameter search\n",
    "max_evals = 15\n",
    "\n",
    "# Resume the search if there are saved trials\n",
    "if len(trials.trials) > 0:\n",
    "    print(f\"Resuming search with {len(trials.trials)} trials\")\n",
    "    best = fmin(fn=objective, space=space, algo=tpe.suggest, max_evals=max_evals, trials=trials)\n",
    "else:\n",
    "    print(\"Starting new search\")\n",
    "    best = fmin(fn=objective, space=space, algo=tpe.suggest, max_evals=max_evals, trials=trials)\n",
    "\n",
    "# Save the trials object to a file\n",
    "with open('trials.pkl', 'wb') as f:\n",
    "    pickle.dump(trials, f)"
   ]
  },
  {
   "cell_type": "code",
   "execution_count": 21,
   "metadata": {},
   "outputs": [
    {
     "data": {
      "image/png": "[encoded data removed]",
      "text/plain": [
       "<Figure size 640x480 with 1 Axes>"
      ]
     },
     "metadata": {},
     "output_type": "display_data"
    }
   ],
   "source": [
    "# Read in the text file\n",
    "df = pd.read_csv('results.txt', delimiter=',')\n",
    "\n",
    "# Normalize the test_loss and training_time columns using Min-Max scaling\n",
    "scaler = MinMaxScaler()\n",
    "df['test_loss_scaled'] = scaler.fit_transform(df[['test_loss']])\n",
    "df['training_time_scaled'] = scaler.fit_transform(df[['training_time']])\n",
    "\n",
    "# Plot the two normalized columns on the same graph\n",
    "plt.plot(df['test_loss_scaled'], label='Test Loss')\n",
    "plt.plot(df['training_time_scaled'], label='Training Time')\n",
    "plt.legend()\n",
    "plt.title('Hyperparameter Tuning Results')\n",
    "plt.xlabel('Hyperparameter Configuration')\n",
    "plt.ylabel('Normalized Value')\n",
    "plt.show()\n",
    "\n",
    "df = df.dropna(subset=['test_loss', 'training_time'])"
   ]
  },
  {
   "cell_type": "code",
   "execution_count": 26,
   "metadata": {},
   "outputs": [],
   "source": [
    "top_test_loss = df.sort_values(by='test_loss', ascending=True).head(3)\n",
    "top_training_time = df.sort_values(by='training_time', ascending=True).head(3)"
   ]
  },
  {
   "cell_type": "code",
   "execution_count": 27,
   "metadata": {},
   "outputs": [
    {
     "name": "stdout",
     "output_type": "stream",
     "text": [
      "Top 3 in terms of test loss:\n"
     ]
    },
    {
     "data": {
      "text/html": [
       "<div>\n",
       "<style scoped>\n",
       "    .dataframe tbody tr th:only-of-type {\n",
       "        vertical-align: middle;\n",
       "    }\n",
       "\n",
       "    .dataframe tbody tr th {\n",
       "        vertical-align: top;\n",
       "    }\n",
       "\n",
       "    .dataframe thead th {\n",
       "        text-align: right;\n",
       "    }\n",
       "</style>\n",
       "<table border=\"1\" class=\"dataframe\">\n",
       "  <thead>\n",
       "    <tr style=\"text-align: right;\">\n",
       "      <th></th>\n",
       "      <th>learning_rate</th>\n",
       "      <th>batch_size</th>\n",
       "      <th>sequence_length</th>\n",
       "      <th>hidden_size</th>\n",
       "      <th>num_layers</th>\n",
       "      <th>test_loss</th>\n",
       "      <th>training_time</th>\n",
       "      <th>test_loss_scaled</th>\n",
       "      <th>training_time_scaled</th>\n",
       "    </tr>\n",
       "  </thead>\n",
       "  <tbody>\n",
       "    <tr>\n",
       "      <th>9</th>\n",
       "      <td>0.024194</td>\n",
       "      <td>128</td>\n",
       "      <td>32</td>\n",
       "      <td>64</td>\n",
       "      <td>2</td>\n",
       "      <td>1.715911</td>\n",
       "      <td>71.611034</td>\n",
       "      <td>0.000000</td>\n",
       "      <td>0.000000</td>\n",
       "    </tr>\n",
       "    <tr>\n",
       "      <th>1</th>\n",
       "      <td>0.007676</td>\n",
       "      <td>128</td>\n",
       "      <td>32</td>\n",
       "      <td>80</td>\n",
       "      <td>1</td>\n",
       "      <td>1.716446</td>\n",
       "      <td>77.027931</td>\n",
       "      <td>0.000311</td>\n",
       "      <td>0.003097</td>\n",
       "    </tr>\n",
       "    <tr>\n",
       "      <th>3</th>\n",
       "      <td>0.089707</td>\n",
       "      <td>64</td>\n",
       "      <td>32</td>\n",
       "      <td>128</td>\n",
       "      <td>2</td>\n",
       "      <td>1.739614</td>\n",
       "      <td>129.528876</td>\n",
       "      <td>0.013776</td>\n",
       "      <td>0.033110</td>\n",
       "    </tr>\n",
       "  </tbody>\n",
       "</table>\n",
       "</div>"
      ],
      "text/plain": [
       "   learning_rate  batch_size  sequence_length  hidden_size  num_layers  \\\n",
       "9       0.024194         128               32           64           2   \n",
       "1       0.007676         128               32           80           1   \n",
       "3       0.089707          64               32          128           2   \n",
       "\n",
       "   test_loss  training_time  test_loss_scaled  training_time_scaled  \n",
       "9   1.715911      71.611034          0.000000              0.000000  \n",
       "1   1.716446      77.027931          0.000311              0.003097  \n",
       "3   1.739614     129.528876          0.013776              0.033110  "
      ]
     },
     "execution_count": 27,
     "metadata": {},
     "output_type": "execute_result"
    }
   ],
   "source": [
    "print(\"Top 3 in terms of test loss:\")\n",
    "top_test_loss"
   ]
  },
  {
   "cell_type": "code",
   "execution_count": 28,
   "metadata": {},
   "outputs": [
    {
     "name": "stdout",
     "output_type": "stream",
     "text": [
      "Top 3 in terms of training time:\n"
     ]
    },
    {
     "data": {
      "text/html": [
       "<div>\n",
       "<style scoped>\n",
       "    .dataframe tbody tr th:only-of-type {\n",
       "        vertical-align: middle;\n",
       "    }\n",
       "\n",
       "    .dataframe tbody tr th {\n",
       "        vertical-align: top;\n",
       "    }\n",
       "\n",
       "    .dataframe thead th {\n",
       "        text-align: right;\n",
       "    }\n",
       "</style>\n",
       "<table border=\"1\" class=\"dataframe\">\n",
       "  <thead>\n",
       "    <tr style=\"text-align: right;\">\n",
       "      <th></th>\n",
       "      <th>learning_rate</th>\n",
       "      <th>batch_size</th>\n",
       "      <th>sequence_length</th>\n",
       "      <th>hidden_size</th>\n",
       "      <th>num_layers</th>\n",
       "      <th>test_loss</th>\n",
       "      <th>training_time</th>\n",
       "      <th>test_loss_scaled</th>\n",
       "      <th>training_time_scaled</th>\n",
       "    </tr>\n",
       "  </thead>\n",
       "  <tbody>\n",
       "    <tr>\n",
       "      <th>9</th>\n",
       "      <td>0.024194</td>\n",
       "      <td>128</td>\n",
       "      <td>32</td>\n",
       "      <td>64</td>\n",
       "      <td>2</td>\n",
       "      <td>1.715911</td>\n",
       "      <td>71.611034</td>\n",
       "      <td>0.000000</td>\n",
       "      <td>0.000000</td>\n",
       "    </tr>\n",
       "    <tr>\n",
       "      <th>1</th>\n",
       "      <td>0.007676</td>\n",
       "      <td>128</td>\n",
       "      <td>32</td>\n",
       "      <td>80</td>\n",
       "      <td>1</td>\n",
       "      <td>1.716446</td>\n",
       "      <td>77.027931</td>\n",
       "      <td>0.000311</td>\n",
       "      <td>0.003097</td>\n",
       "    </tr>\n",
       "    <tr>\n",
       "      <th>0</th>\n",
       "      <td>0.007162</td>\n",
       "      <td>64</td>\n",
       "      <td>128</td>\n",
       "      <td>128</td>\n",
       "      <td>2</td>\n",
       "      <td>1.807687</td>\n",
       "      <td>121.276107</td>\n",
       "      <td>0.053339</td>\n",
       "      <td>0.028392</td>\n",
       "    </tr>\n",
       "  </tbody>\n",
       "</table>\n",
       "</div>"
      ],
      "text/plain": [
       "   learning_rate  batch_size  sequence_length  hidden_size  num_layers  \\\n",
       "9       0.024194         128               32           64           2   \n",
       "1       0.007676         128               32           80           1   \n",
       "0       0.007162          64              128          128           2   \n",
       "\n",
       "   test_loss  training_time  test_loss_scaled  training_time_scaled  \n",
       "9   1.715911      71.611034          0.000000              0.000000  \n",
       "1   1.716446      77.027931          0.000311              0.003097  \n",
       "0   1.807687     121.276107          0.053339              0.028392  "
      ]
     },
     "execution_count": 28,
     "metadata": {},
     "output_type": "execute_result"
    }
   ],
   "source": [
    "print(\"Top 3 in terms of training time:\")\n",
    "top_training_time"
   ]
  }
 ],
 "metadata": {
  "kernelspec": {
   "display_name": "ai",
   "language": "python",
   "name": "python3"
  },
  "language_info": {
   "codemirror_mode": {
    "name": "ipython",
    "version": 3
   },
   "file_extension": ".py",
   "mimetype": "text/x-python",
   "name": "python",
   "nbconvert_exporter": "python",
   "pygments_lexer": "ipython3",
   "version": "3.9.16"
  },
  "orig_nbformat": 4,
  "vscode": {
   "interpreter": {
    "hash": "68687a499e0775bfb06d4a0c91954dfe7dcdc7f84c6d272d4d4615fc1c039e3a"
   }
  }
 },
 "nbformat": 4,
 "nbformat_minor": 2
}

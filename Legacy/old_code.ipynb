{
 "cells": [
  {
   "cell_type": "code",
   "execution_count": null,
   "metadata": {},
   "outputs": [],
   "source": [
    "data_train, data_test, _ = preprocessing(df = df[:int(len(df)*0.2)], lag = 1, sequence_length=100, dif_all=True, train_size=0.9 )\n",
    "data_module = StockPriceDataModule(train_sequence = data_train,  test_sequence= data_test, batch_size=64, num_workers = 4)\n",
    "data_module.setup()\n",
    "\n",
    "for item in data_module.train_dataloader():\n",
    "    print(item.keys())\n",
    "    print(item['sequence'].shape)\n",
    "    print(item['label'].shape)\n",
    "    break\n"
   ]
  },
  {
   "cell_type": "code",
   "execution_count": null,
   "metadata": {},
   "outputs": [],
   "source": [
    "checkpoint_callback = ModelCheckpoint(\n",
    "    dirpath=\"checkpoints\",\n",
    "    filename=\"best_checkpoint3\",\n",
    "    save_top_k=1,\n",
    "    verbose=True,\n",
    "    monitor=\"train_loss\",\n",
    "    mode=\"min\"\n",
    ")\n",
    "\n",
    "#logger = TensorBoardLogger(\"logs/\", name=\"lightninglstm\")\n",
    "\n",
    "early_stopping_callback = EarlyStopping(monitor=\"val_loss\", patience=2)\n",
    "\n",
    "progressbar = TQDMProgressBar(refresh_rate=100)"
   ]
  },
  {
   "cell_type": "code",
   "execution_count": null,
   "metadata": {},
   "outputs": [],
   "source": [
    "model = LightningLSTM(input_size=7, hidden_size = 100, num_layers = 3)\n",
    "trainer = pl.Trainer(max_epochs=15, callbacks=[checkpoint_callback,progressbar], accelerator=\"gpu\", devices=1, limit_val_batches=0)\n",
    "trainer.fit(model, data_module)"
   ]
  },
  {
   "cell_type": "code",
   "execution_count": null,
   "metadata": {},
   "outputs": [],
   "source": [
    "from Evaluation import evaluation_plots\n",
    "from tqdm import tqdm\n",
    "df_test = data_test[:int(len(data_test[0])*0.1)]\n",
    "print(len(df_test))\n",
    "test = StockDataset(df_test)\n",
    "\n",
    "predictions = []\n",
    "labels = []\n",
    "\n",
    "pbar = tqdm(total=len(test))\n",
    "\n",
    "for item in test:\n",
    "  \n",
    "  pbar.update(1)\n",
    "  sequence = item[\"sequence\"]\n",
    "  label = item['label']\n",
    "\n",
    "  _, output = model(sequence.unsqueeze(dim=0))\n",
    "  predictions.append(float(output.detach().numpy()[0]))\n",
    "  labels.append(float(label.detach().numpy()))\n",
    "\n",
    "pbar.close()\n",
    "\n",
    "evaluation_plots.plot_predictions_vs_labels(predictions, labels)"
   ]
  }
 ],
 "metadata": {
  "language_info": {
   "name": "python"
  },
  "orig_nbformat": 4
 },
 "nbformat": 4,
 "nbformat_minor": 2
}

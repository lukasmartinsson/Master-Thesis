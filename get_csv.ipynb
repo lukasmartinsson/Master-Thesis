{
 "cells": [
  {
   "cell_type": "code",
   "execution_count": 7,
   "metadata": {},
   "outputs": [],
   "source": [
    "from historical_data import Historical_data\n",
    "from alpaca.data.timeframe import TimeFrame\n",
    "from alpaca.data.historical import CryptoHistoricalDataClient, StockHistoricalDataClient\n",
    "import pandas as pd\n",
    "\n",
    "\"\"\"\n",
    "Historical_data(type: str, stock: List[str], timeframe: TimeFrame, start: str, end: str)\n",
    "\n",
    "Parameters:\n",
    "\n",
    "    type (str): A string that specifies the type of asset for which to retrieve historical data\n",
    "        Currently implemented assets: [Crypto] \n",
    "        Not yet implemented:'StockBars','StockQuotes','StockTrades','StockLatestTrade','StockLatestQuote','StockSnapshot','StockLatestBar':\n",
    "    \n",
    "    stock (List[str]): A list of strings that specifies the stock for which to retrieve historical data.\n",
    "        Examples for crypto: [\"BTC/USD\"]\n",
    "        Examples for stocks: [\"AAPL\"]\n",
    "\n",
    "    timeframe (TimeFrame): A TimeFrame object that specifies the time frame for which to retrieve historical data\n",
    "        Example: TimeFrame.Day, TimeFrame.Hour, TimeFrame.Minute\n",
    "\n",
    "    start (str): A string in the format \"YYYY-MM-DD HH:MM:SS\" that specifies the start date and time for the historical data\n",
    "    \n",
    "    end (str): A string in the format \"YYYY-MM-DD HH:MM:SS\" that specifies the end date and time for the historical data\n",
    "    \n",
    "    returns (Any): The function returns the historical data for the specified asset, stock, time frame, start and end date and time\n",
    "\n",
    "\"\"\"\n",
    "\n",
    "type = \"Crypto\"\n",
    "stock = [\"BTC/USD\"]\n",
    "timeframe = TimeFrame.Hour\n",
    "start = \"2022-12-01 06:00:00\"\n",
    "end = \"2022-12-07 06:00:00\"\n",
    "\n",
    "\n",
    "#client = StockHistoricalDataClient(\"PKIOODP9X7IQ0SAN67N8\", \"DRlmXMdAVm8Srlq8AsV4Ak381QNUOK6pPehkRDIz\")\n",
    "\n",
    "dataframe = Historical_data(type = type, stock = stock, timeframe = timeframe, start = start, end = end)\n",
    "dataframe.to_csv(type)"
   ]
  }
 ],
 "metadata": {
  "kernelspec": {
   "display_name": "Python 3.9.12 ('base')",
   "language": "python",
   "name": "python3"
  },
  "language_info": {
   "codemirror_mode": {
    "name": "ipython",
    "version": 3
   },
   "file_extension": ".py",
   "mimetype": "text/x-python",
   "name": "python",
   "nbconvert_exporter": "python",
   "pygments_lexer": "ipython3",
   "version": "3.9.12"
  },
  "orig_nbformat": 4,
  "vscode": {
   "interpreter": {
    "hash": "ad2bdc8ecc057115af97d19610ffacc2b4e99fae6737bb82f5d7fb13d2f2c186"
   }
  }
 },
 "nbformat": 4,
 "nbformat_minor": 2
}

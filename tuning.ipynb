{
 "cells": [
  {
   "cell_type": "code",
   "execution_count": 2,
   "metadata": {},
   "outputs": [
    {
     "data": {
      "text/plain": [
       "True"
      ]
     },
     "execution_count": 2,
     "metadata": {},
     "output_type": "execute_result"
    }
   ],
   "source": [
    "import torch\n",
    "torch.cuda.is_available()"
   ]
  },
  {
   "cell_type": "code",
   "execution_count": 3,
   "metadata": {},
   "outputs": [],
   "source": [
    "# For Data\n",
    "from alpaca.data.timeframe import TimeFrame\n",
    "from alpaca.data.historical import CryptoHistoricalDataClient, StockHistoricalDataClient\n",
    "\n",
    "#from Data.historical_data import Historical_data\n",
    "import pandas as pd\n",
    "from Preprocessing.preprocessing import preprocessing_improved\n",
    "from Models.LSTM.lightningLSTM import LightningLSTM\n",
    "import torch\n",
    "from torch.utils.data import Dataset, DataLoader\n",
    "from pytorch_lightning.callbacks import ModelCheckpoint, EarlyStopping\n",
    "from pytorch_lightning.loggers import TensorBoardLogger\n",
    "from Preprocessing.dataclasses import StockPriceDataModule, StockDataset\n",
    "import pytorch_lightning as pl\n",
    "from pytorch_lightning.loggers import TensorBoardLogger\n",
    "from pytorch_lightning.callbacks import ModelCheckpoint, EarlyStopping, TQDMProgressBar, StochasticWeightAveraging\n",
    "import matplotlib.pyplot as plt\n",
    "import numpy as np \n",
    "import numpy as np\n",
    "from tqdm import tqdm\n",
    "from hyperopt import fmin, tpe, hp"
   ]
  },
  {
   "cell_type": "code",
   "execution_count": 4,
   "metadata": {},
   "outputs": [],
   "source": [
    "df = pd.read_csv('Data\\Stock\\StockBars\\MSFT_Minute')"
   ]
  },
  {
   "cell_type": "code",
   "execution_count": null,
   "metadata": {},
   "outputs": [],
   "source": [
    "def objective(params):\n",
    "\n",
    "    pbar.update(1)\n",
    "\n",
    "    # Set the hyperparameters, batch size, and sequence length\n",
    "    LEARNING_RATE = params['learning_rate']\n",
    "    BATCH_SIZE = params['batch_size']\n",
    "    SEQUENCE_LENGTH = params['sequence_length']\n",
    "    \n",
    "    data_train, data_test = preprocessing_improved(df = df[:int(len(df)*0.4)], lag = 1, sequence_length=SEQUENCE_LENGTH, dif_all=True, train_size=0.9 )\n",
    "\n",
    "    # Create the data module with the given batch size and sequence length\n",
    "    data_module = StockPriceDataModule(train_sequence = data_train,  test_sequence = data_test, batch_size=BATCH_SIZE, num_workers = 4)\n",
    "    \n",
    "    # Create the Lightning module with the given learning rate\n",
    "    model = LightningLSTM(input_size=8, hidden_size = 125, num_layers = 1, learning_rate=LEARNING_RATE)\n",
    "    \n",
    "    # Train the model for a fixed number of epochs\n",
    "    trainer = pl.Trainer(max_epochs=2, accelerator=\"gpu\", devices=1, callbacks=[TQDMProgressBar(refresh_rate=100)])\n",
    "    trainer.fit(model, data_module)\n",
    "    \n",
    "    # Evaluate the model on the test set and return the loss\n",
    "    test_loss = trainer.test(model, datamodule=data_module)[0]['test_loss']\n",
    "    \n",
    "    # Log the performance for the current hyperparameter configuration\n",
    "    log_dict = {\n",
    "        'learning_rate': LEARNING_RATE,\n",
    "        'batch_size': BATCH_SIZE,\n",
    "        'sequence_length': SEQUENCE_LENGTH,\n",
    "        'test_loss': test_loss,\n",
    "    }\n",
    "    with open('hyperparameter_logs.txt', 'a') as f:\n",
    "        np.savetxt(f, np.array(list(log_dict.values())).reshape(1, -1), delimiter=',')\n",
    "    \n",
    "    return test_loss\n",
    "\n",
    "space = {\n",
    "    'learning_rate': hp.loguniform('learning_rate', -6, -1),\n",
    "    'batch_size': hp.choice('batch_size', [16, 32, 64, 128]),\n",
    "    'sequence_length': hp.choice('sequence_length', [32, 64, 128, 256])\n",
    "}\n",
    "\n",
    "# Set the maximum number of evaluations for the hyperparameter search\n",
    "max_evals = 1\n",
    "\n",
    "# Perform the hyperparameter search using the TPE algorithm\n",
    "pbar = tqdm(total=max_evals)\n",
    "\n",
    "best = fmin(fn=objective, space=space, algo=tpe.suggest, max_evals=max_evals, rstate=np.random.default_rng (42))\n",
    "\n",
    "pbar.close()\n",
    "\n",
    "best"
   ]
  }
 ],
 "metadata": {
  "kernelspec": {
   "display_name": "ai",
   "language": "python",
   "name": "python3"
  },
  "language_info": {
   "codemirror_mode": {
    "name": "ipython",
    "version": 3
   },
   "file_extension": ".py",
   "mimetype": "text/x-python",
   "name": "python",
   "nbconvert_exporter": "python",
   "pygments_lexer": "ipython3",
   "version": "3.9.16"
  },
  "orig_nbformat": 4,
  "vscode": {
   "interpreter": {
    "hash": "68687a499e0775bfb06d4a0c91954dfe7dcdc7f84c6d272d4d4615fc1c039e3a"
   }
  }
 },
 "nbformat": 4,
 "nbformat_minor": 2
}

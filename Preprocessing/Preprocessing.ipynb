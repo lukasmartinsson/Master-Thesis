{
 "cells": [
  {
   "cell_type": "code",
   "execution_count": 67,
   "metadata": {},
   "outputs": [],
   "source": [
    "import pandas as pd\n",
    "from sklearn.preprocessing import RobustScaler\n",
    "from sklearn.model_selection import train_test_split\n",
    "import torch"
   ]
  },
  {
   "cell_type": "code",
   "execution_count": 74,
   "metadata": {},
   "outputs": [],
   "source": [
    "def preprocessing(df: pd.DataFrame) -> pd.DataFrame:    \n",
    "\n",
    "    # Drop irrelevant values\n",
    "    df = df.drop(columns=['symbol', 'timestamp'])\n",
    "\n",
    "    # Check for NaN values\n",
    "    if df.isnull().values.any():\n",
    "        print(\"Error in dataframe, missing value\")\n",
    "\n",
    "    # Add the difference between values (will be used as label)\n",
    "    df['results'] = [df.iloc[i]['vwap'] - df.iloc[i-1]['vwap'] for i in range(len(df))]\n",
    "    \n",
    "    # Resets the index and removes the first value that will have the wrong results\n",
    "    df = df[1:].reset_index()\n",
    "\n",
    "    features = df[['open', 'high', 'low', 'close', 'volume', 'trade_count','vwap']]\n",
    "    labels = df['results']\n",
    "    \n",
    "    # Split the data into training and testing sets\n",
    "    train_X, test_X, train_Y, test_Y = train_test_split(features, labels, test_size=0.2, random_state=0)\n",
    "\n",
    "    # Apply RobustScaler to the training set\n",
    "    scaler = RobustScaler().fit(train_X)\n",
    "\n",
    "    # Apply the scaling to the sets\n",
    "    train_X_scaled = scaler.transform(train_X)\n",
    "    test_X_scaled = scaler.transform(test_X)\n",
    "\n",
    "    # Convert the scaled data into tensors\n",
    "    train_X = torch.tensor(train_X_scaled).float()\n",
    "    test_X = torch.tensor(test_X_scaled).float()\n",
    "    train_Y = torch.tensor(train_Y.values).float()\n",
    "    test_Y = torch.tensor(test_Y.values).float()\n",
    "\n",
    "    return train_X, test_X, train_Y, test_Y"
   ]
  }
 ],
 "metadata": {
  "kernelspec": {
   "display_name": "Python 3.9.13 ('dml')",
   "language": "python",
   "name": "python3"
  },
  "language_info": {
   "codemirror_mode": {
    "name": "ipython",
    "version": 3
   },
   "file_extension": ".py",
   "mimetype": "text/x-python",
   "name": "python",
   "nbconvert_exporter": "python",
   "pygments_lexer": "ipython3",
   "version": "3.9.13"
  },
  "orig_nbformat": 4,
  "vscode": {
   "interpreter": {
    "hash": "6cb73f00f1a79ec5219b7e12c58ad4323a36ced5025dd310652da15eabb4d3c9"
   }
  }
 },
 "nbformat": 4,
 "nbformat_minor": 2
}

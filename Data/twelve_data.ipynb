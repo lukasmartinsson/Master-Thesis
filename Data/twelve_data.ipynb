{
 "cells": [
  {
   "cell_type": "code",
   "execution_count": 21,
   "metadata": {},
   "outputs": [
    {
     "name": "stdout",
     "output_type": "stream",
     "text": [
      "(5000, 6)\n",
      "(10000, 6)\n",
      "(15000, 6)\n",
      "(20000, 6)\n",
      "(25000, 6)\n",
      "(30000, 6)\n",
      "(35000, 6)\n",
      "(40000, 6)\n"
     ]
    }
   ],
   "source": [
    "from twelvedata import TDClient\n",
    "from datetime import datetime\n",
    "import pandas as pd\n",
    "import time\n",
    "\n",
    "# Initialize client - apikey parameter is requiered\n",
    "td = TDClient(apikey=\"3d530de792974a98a4c101a53ce04fe7\")\n",
    "\n",
    "\n",
    "#Settings\n",
    "start_date = '2021-03-01 15:59:00'\n",
    "end_date = '2023-03-01 15:59:00'\n",
    "symbol = \"SPY\"\n",
    "interval = \"5min\"\n",
    "\n",
    "#Create empty dataframe\n",
    "df = pd.DataFrame()\n",
    "\n",
    "#Compare date\n",
    "def compare_dates(date_string1, date_string2):\n",
    "    date1 = datetime.strptime(date_string1, '%Y-%m-%d %H:%M:%S')\n",
    "    date2 = datetime.strptime(date_string2, '%Y-%m-%d %H:%M:%S')\n",
    "    return date1 >= date2\n",
    "\n",
    "\n",
    "while(compare_dates(end_date, start_date)):\n",
    "\n",
    "    #Prevent to many API-calls (only 8 per min allowed)\n",
    "    time.sleep(9)\n",
    "    \n",
    "    ts = td.time_series(\n",
    "        symbol=symbol,\n",
    "        interval=interval,\n",
    "        outputsize=5000,\n",
    "        timezone=\"America/New_York\",\n",
    "        end_date = end_date, \n",
    "    )\n",
    "    new_data = ts.as_pandas().reset_index()\n",
    "    df = pd.concat([df, new_data], ignore_index=True)\n",
    "    end_date = str(new_data['datetime'].iloc[-1])\n",
    "    print(df.shape)"
   ]
  },
  {
   "cell_type": "code",
   "execution_count": 31,
   "metadata": {},
   "outputs": [
    {
     "name": "stdout",
     "output_type": "stream",
     "text": [
      "                 datetime       open       high        low      close   volume\n",
      "0     2021-02-08 12:40:00  389.10001  389.20999  389.04001  389.20001   188871\n",
      "1     2021-02-08 12:45:00  389.20749  389.31000  389.20001  389.23001   131782\n",
      "2     2021-02-08 12:50:00  389.22189  389.24991  389.10001  389.14001   176228\n",
      "3     2021-02-08 12:55:00  389.14999  389.14999  388.91000  389.03000   206980\n",
      "4     2021-02-08 13:00:00  389.03000  389.03000  388.85999  388.85999   292560\n",
      "...                   ...        ...        ...        ...        ...      ...\n",
      "39988 2023-03-01 15:35:00  394.57999  394.72000  394.23999  394.55499  1025726\n",
      "39989 2023-03-01 15:40:00  394.56000  395.07999  394.51999  394.95499  1060964\n",
      "39990 2023-03-01 15:45:00  394.94501  395.14999  394.79001  395.07001  1846713\n",
      "39991 2023-03-01 15:50:00  395.07999  395.09399  394.54999  394.70499  2556408\n",
      "39992 2023-03-01 15:55:00  394.70001  394.98999  394.51999  394.78000  3331416\n",
      "\n",
      "[39993 rows x 6 columns]\n"
     ]
    }
   ],
   "source": [
    "final = df.sort_values(by='datetime').drop_duplicates(subset=['datetime']).reset_index(drop=True)\n",
    "print(final)\n",
    "final.to_csv('twelve_data/' + symbol + '_' + interval, index=False)"
   ]
  }
 ],
 "metadata": {
  "kernelspec": {
   "display_name": "base",
   "language": "python",
   "name": "python3"
  },
  "language_info": {
   "codemirror_mode": {
    "name": "ipython",
    "version": 3
   },
   "file_extension": ".py",
   "mimetype": "text/x-python",
   "name": "python",
   "nbconvert_exporter": "python",
   "pygments_lexer": "ipython3",
   "version": "3.9.13"
  },
  "orig_nbformat": 4,
  "vscode": {
   "interpreter": {
    "hash": "adfb25ce21feaa9a3fcc67ce2af0e733a33e84b69e4810e5869c855f113d60a4"
   }
  }
 },
 "nbformat": 4,
 "nbformat_minor": 2
}

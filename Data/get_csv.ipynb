{
 "cells": [
  {
   "cell_type": "code",
   "execution_count": 4,
   "metadata": {},
   "outputs": [],
   "source": [
    "from historical_data import Historical_data\n",
    "from alpaca.data.timeframe import TimeFrame\n",
    "from alpaca.data.historical import CryptoHistoricalDataClient, StockHistoricalDataClient\n",
    "import pandas as pd\n",
    "\n",
    "\"\"\"\n",
    "Historical_data(type: str, stock: List[str], timeframe: TimeFrame, start: str, end: str)\n",
    "\n",
    "Parameters:\n",
    "\n",
    "    type (str): A string that specifies the type of asset for which to retrieve historical data\n",
    "        Currently implemented assets: ['Crypto', 'StockBars', 'StockQuotes','StockTrades','StockLatestTrade','StockLatestQuote','StockSnapshot','StockLatestBar']:\n",
    "    \n",
    "    stock (List[str]): A list of strings that specifies the stock for which to retrieve historical data.\n",
    "        Examples for crypto: [\"BTC/USD\"]\n",
    "        Examples for stocks: [\"AAPL\"]\n",
    "\n",
    "    timeframe (TimeFrame): A TimeFrame object that specifies the time frame for which to retrieve historical data\n",
    "        Example: TimeFrame.Day, TimeFrame.Hour, TimeFrame.Minute\n",
    "\n",
    "    start (str): A string in the format \"YYYY-MM-DD HH:MM:SS\" that specifies the start date and time for the historical data\n",
    "    \n",
    "    end (str): A string in the format \"YYYY-MM-DD HH:MM:SS\" that specifies the end date and time for the historical data\n",
    "\n",
    "    client: Takes two parameters, an \"api_key\" that is used to authenticate the client's access to the stock historical data service and a \"secret_key\" that is used to secure the client's connection.\n",
    "    \n",
    "    returns (Any): The function returns the historical data for the specified asset, stock, time frame, start and end date and time\n",
    "\n",
    "\"\"\"\n",
    "\n",
    "s_type = \"StockBars\"\n",
    "stock = [\"AAPL\"]\n",
    "timeframe = TimeFrame.Minute\n",
    "start = \"2021-08-19 06:00:00\"\n",
    "end = \"2022-08-20 06:00:00\"\n",
    "client = StockHistoricalDataClient(\"PKV7BABG3DGE0GYL137W\", \"af1eQghpVgbyX2lh2T9n2ColmVYXHCWndQbKR3Lr\")\n",
    "\n",
    "dataframe = Historical_data(s_type = s_type, stock = stock, timeframe = timeframe, start = start, end = end, client = client)\n",
    "dataframe.to_csv('Stock/' + s_type + '/' + stock[0])"
   ]
  }
 ],
 "metadata": {
  "kernelspec": {
   "display_name": "Python 3.9.12 ('base')",
   "language": "python",
   "name": "python3"
  },
  "language_info": {
   "codemirror_mode": {
    "name": "ipython",
    "version": 3
   },
   "file_extension": ".py",
   "mimetype": "text/x-python",
   "name": "python",
   "nbconvert_exporter": "python",
   "pygments_lexer": "ipython3",
   "version": "3.9.12"
  },
  "orig_nbformat": 4,
  "vscode": {
   "interpreter": {
    "hash": "ad2bdc8ecc057115af97d19610ffacc2b4e99fae6737bb82f5d7fb13d2f2c186"
   }
  }
 },
 "nbformat": 4,
 "nbformat_minor": 2
}

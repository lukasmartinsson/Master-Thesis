{
  "cells": [
    {
      "cell_type": "markdown",
      "metadata": {
        "id": "uouMXlkmmgCg"
      },
      "source": [
        "<a href=\"https://colab.research.google.com/github/timeseriesAI/tsai/blob/master/tutorial_nbs/10_Time_Series_Classification_and_Regression_with_MiniRocket.ipynb\" target=\"_parent\"><img src=\"https://colab.research.google.com/assets/colab-badge.svg\" alt=\"Open In Colab\"/></a>"
      ]
    },
    {
      "cell_type": "markdown",
      "metadata": {
        "id": "kRKOoCefmgCk"
      },
      "source": [
        "created by Malcolm McLean and Ignacio Oguiza (oguiza@timeseriesAI.co) based on: \n",
        "\n",
        "* Dempster, A., Schmidt, D. F., & Webb, G. I. (2020). MINIROCKET: A Very Fast (Almost) Deterministic Transform for Time Series Classification. arXiv preprint arXiv:2012.08791.\n",
        "\n",
        "* Original paper: https://arxiv.org/abs/2012.08791\n",
        "\n",
        "* Original code:  https://github.com/angus924/minirocket"
      ]
    },
    {
      "cell_type": "markdown",
      "metadata": {
        "id": "ym3PCwNdmgCl"
      },
      "source": [
        "# MiniRocket 🚀\n",
        "\n",
        "> A Very Fast (Almost) Deterministic Transform for Time Series Classification."
      ]
    },
    {
      "cell_type": "markdown",
      "metadata": {
        "id": "9tLIdhLJmgCl"
      },
      "source": [
        "ROCKET is a type of time series classification and regression methods that is different to the \n",
        "ones you may be familiar with. Typical machine learning classifiers will \n",
        "optimize the weights of convolutions, fully-connected, and pooling layers, \n",
        "learning a configuration of weights that classifies the time series.\n",
        "\n",
        "In contrast, ROCKET applies a large number of fixed, non-trainable, independent convolutions \n",
        "to the timeseries. It then extracts a number of features from each convolution \n",
        "output (a form of pooling), generating typically 10000 features per sample. (These \n",
        "features are simply floating point numbers.)\n",
        "\n",
        "The features are stored so that they can be used multiple times. \n",
        "It then learns a simple linear head to predict each time series sample from its features. \n",
        "Typical PyTorch heads might be based on Linear layers. When the number of training samples is small,\n",
        "sklearn's RidgeClassifier is often used.\n",
        "\n",
        "The convolutions' fixed weights and the pooling method have been chosen experimentally to \n",
        "effectively predict a broad range of real-world time series.\n",
        "\n",
        "The original ROCKET method used a selection of fixed convolutions with weights \n",
        "chosen according to a random distribution. Building upon the lessons learned \n",
        "from ROCKET, MiniRocket refines the convolutions to a specific pre-defined set \n",
        "that proved to be at least as effective ROCKET's. It is also much faster \n",
        "to calculate than the original ROCKET. Actually, the paper authors \"suggest that MiniRocket should now be considered and used as the default variant of Rocket.\"\n",
        "\n",
        "MiniROCKET was implemented in Python using numba acceleration and mathematical \n",
        "speedups specific to the algorithm. It runs quite fast, utilizing CPU cores in \n",
        "parallel. Here we present a 2 implementations of MiniRocket: \n",
        " * a cpu version with an sklearn-like API (that can be used with small datasets - <10k samples), and\n",
        " * a PyTorch implementation of MiniRocket, optimized for \n",
        "the GPU. It runs faster (3-25x depending on your GPU) than the CPU version and offers some flexibility for further experimentation.\n",
        "\n",
        "We'll demonstrate how you can use both of them througout this notebook."
      ]
    },
    {
      "cell_type": "markdown",
      "metadata": {
        "id": "atVMOpo4mgCm"
      },
      "source": [
        "# Import libraries 📚"
      ]
    },
    {
      "cell_type": "code",
      "execution_count": 1,
      "metadata": {
        "id": "DYzW6FCDmgCo",
        "outputId": "9a0063e2-6f04-46bc-94c1-5cc8bce3bf49"
      },
      "outputs": [
        {
          "name": "stderr",
          "output_type": "stream",
          "text": [
            "c:\\Users\\karll\\miniconda3\\lib\\site-packages\\tqdm\\auto.py:22: TqdmWarning: IProgress not found. Please update jupyter and ipywidgets. See https://ipywidgets.readthedocs.io/en/stable/user_install.html\n",
            "  from .autonotebook import tqdm as notebook_tqdm\n"
          ]
        },
        {
          "name": "stdout",
          "output_type": "stream",
          "text": [
            "os              : Windows-10-10.0.22621-SP0\n",
            "python          : 3.9.13\n",
            "tsai            : 0.3.5\n",
            "fastai          : 2.7.11\n",
            "fastcore        : 1.5.28\n",
            "sktime          : 0.16.1\n",
            "sklearn         : 1.1.2\n",
            "torch           : 1.13.1+cpu\n",
            "cpu cores       : 6\n",
            "threads per cpu : 2\n",
            "RAM             : 15.9 GB\n",
            "GPU memory      : [6.0] GB\n"
          ]
        }
      ],
      "source": [
        "from tsai.basics import *\n",
        "import sktime\n",
        "import sklearn\n",
        "my_setup(sktime, sklearn)"
      ]
    },
    {
      "cell_type": "markdown",
      "metadata": {
        "id": "XCJ0w36PmgCp"
      },
      "source": [
        "# Using MiniRocket 🚀"
      ]
    },
    {
      "cell_type": "markdown",
      "metadata": {
        "id": "jsaVj52PmgCp"
      },
      "source": [
        "* First, create the features for each timeseries sample using the MiniRocketFeatures module (MRF). \n",
        "MRF takes a minibatch of time series samples and outputs their features. Choosing an appropriate minibatch size\n",
        "allows training sets of any size to be used without exhausting CPU or GPU memory.\n",
        "\n",
        "    Typically, 10000 features will characterize each sample. These features are relatively\n",
        "expensive to create, but once created they are fixed and may be used as the \n",
        "input for further training. They might be saved for example in memory or on disk.\n",
        "\n",
        "\n",
        "* Next, the features are sent to a linear model. The original \n",
        "MiniRocket research used sklearn's RidgeClassifier. When the number of samples \n",
        "goes beyond the capacity of RidgeClassifier, a deep learning \"Head\" can be \n",
        "used instead to learn the classification/regression from minibatches of features.\n",
        "\n",
        "For the following demos, we use the tsai package to handle timeseries efficiently and clearly. tsai is fully integrated with fastai, allowing fastai's training loop and other convenience to be used. To learn more about tsai, please check out the docs and tutorials at https://github.com/timeseriesAI/tsai\n",
        "\n",
        "Let's get started."
      ]
    },
    {
      "cell_type": "markdown",
      "metadata": {
        "id": "Lewiznb5mgCq"
      },
      "source": [
        "## sklearn-type API (<10k samples) 🚶🏻‍♂️"
      ]
    },
    {
      "cell_type": "markdown",
      "metadata": {
        "id": "7zDo67r5mgCq"
      },
      "source": [
        "We'll first import the models we are going to use:"
      ]
    },
    {
      "cell_type": "code",
      "execution_count": 2,
      "metadata": {
        "id": "pcdIhc7_mgCq"
      },
      "outputs": [],
      "source": [
        "from tsai.models.MINIROCKET import *"
      ]
    },
    {
      "cell_type": "code",
      "execution_count": 6,
      "metadata": {},
      "outputs": [],
      "source": [
        "import sys, os\n",
        "import pandas as pd\n",
        "\n",
        "\n",
        "from Preprocessing.preprocessing import preprocessing\n",
        "\n",
        "\n",
        "df = pd.read_csv('Data\\Stock\\StockBars\\MSFT_Minute')\n",
        "data_train, data_test ,s = preprocessing(df[:10000],sequence_length = 10, lag=3, TSAI = True, CLF = True)\n"
      ]
    },
    {
      "cell_type": "markdown",
      "metadata": {
        "id": "kCdDpHgSmgCr"
      },
      "source": [
        "### Classifier"
      ]
    },
    {
      "cell_type": "code",
      "execution_count": 11,
      "metadata": {
        "id": "tzHjb8CrmgCs",
        "outputId": "8816f047-4333-412d-be7d-882c4063e478"
      },
      "outputs": [
        {
          "name": "stdout",
          "output_type": "stream",
          "text": [
            "valid accuracy    : 57.692% time: 123.289274\n"
          ]
        }
      ],
      "source": [
        "# Multivariate classification with sklearn-type API\n",
        "\n",
        "X_train, y_train, X_valid, y_valid = data_train[0].numpy(), data_train[1].numpy(), data_test[0].numpy(), data_test[1].numpy()\n",
        "model = MiniRocketClassifier() \n",
        "timer.start(False)\n",
        "model.fit(X_train, y_train)\n",
        "t = timer.stop()\n",
        "print(f'valid accuracy    : {model.score(X_valid, y_valid):.3%} time: {t}')"
      ]
    },
    {
      "cell_type": "markdown",
      "metadata": {
        "id": "Kw81bDromgCt"
      },
      "source": [
        "One way to try to improve performance is to use an ensemble (that uses majority vote). Bear in mind that the ensemble will take longer since multiple models will be fitted."
      ]
    },
    {
      "cell_type": "code",
      "execution_count": 10,
      "metadata": {
        "id": "bJuj61RLmgCt",
        "outputId": "9f15e261-dfc6-4271-e900-92723aca9d1a"
      },
      "outputs": [
        {
          "name": "stdout",
          "output_type": "stream",
          "text": [
            "valid accuracy    : 57.389% time: 617.140813\n"
          ]
        }
      ],
      "source": [
        "# Multivariate classification ensemble with sklearn-type API\n",
        "model = MiniRocketVotingClassifier(n_estimators=5)\n",
        "timer.start(False)\n",
        "model.fit(X_train, y_train)\n",
        "t = timer.stop()\n",
        "print(f'valid accuracy    : {model.score(X_valid, y_valid):.3%} time: {t}')"
      ]
    },
    {
      "cell_type": "markdown",
      "metadata": {
        "id": "UpUnxkFEmgCu"
      },
      "source": [
        "Once a model is trained, you can always save it for future inference: "
      ]
    },
    {
      "cell_type": "code",
      "execution_count": 12,
      "metadata": {
        "id": "s9-jlThimgCu"
      },
      "outputs": [],
      "source": [
        "\n",
        "model.save(f'MiniRocket_{\"singel\"}')\n",
        "del model"
      ]
    },
    {
      "cell_type": "code",
      "execution_count": null,
      "metadata": {
        "id": "GPxqNmZjmgCu",
        "outputId": "4d122388-3393-4c3c-9ed1-f63175ce082b"
      },
      "outputs": [],
      "source": [
        "model = load_minirocket(f'MiniRocket_{\"single\"}')\n",
        "print(f'valid accuracy    : {model.score(X_valid, y_valid):.3%}')"
      ]
    },
    {
      "cell_type": "markdown",
      "metadata": {
        "id": "1ie9C9VcmgCx"
      },
      "source": [
        "## Pytorch implementation (any # samples) 🏃"
      ]
    },
    {
      "cell_type": "code",
      "execution_count": 14,
      "metadata": {
        "id": "ZQJRgyeQmgCx"
      },
      "outputs": [],
      "source": [
        "from tsai.models.MINIROCKET_Pytorch import *\n",
        "from tsai.models.utils import *"
      ]
    },
    {
      "cell_type": "markdown",
      "metadata": {
        "id": "MasxdQgtmgCx"
      },
      "source": [
        "### Offline feature calculation "
      ]
    },
    {
      "cell_type": "markdown",
      "metadata": {
        "id": "i7fy197nmgCx"
      },
      "source": [
        "In the offline calculation, all features will be calculated in a first stage and then passed to the dataloader that will create batches. This features will ramain the same throughout training.\n",
        "\n",
        "⚠️ In order to avoid leakage when using the offline feature calculation, it's important to fit MiniRocketFeatures using just the train samples."
      ]
    },
    {
      "cell_type": "code",
      "execution_count": 22,
      "metadata": {
        "id": "9Ykp9L_omgCx"
      },
      "outputs": [
        {
          "name": "stdout",
          "output_type": "stream",
          "text": [
            "tensor([0., 1.])\n",
            "torch.Size([9975, 9, 10]) torch.Size([9975])\n"
          ]
        }
      ],
      "source": [
        "# Create the MiniRocket features and store them in memory.\n",
        "df = pd.read_csv('Data\\Stock\\StockBars\\MSFT_Minute')\n",
        "data_train, data_test ,s = preprocessing(df[:10000],sequence_length = 10, lag=3, TSAI = True, CLF = True)\n",
        "\n",
        "X, y, splits = combine_split_data([data_train[0], data_test[0]],[data_train[1], data_test[1]])\n",
        "print(torch.unique(y))\n",
        "\n",
        "print(X.shape, y.shape)"
      ]
    },
    {
      "cell_type": "code",
      "execution_count": 24,
      "metadata": {
        "id": "RPeabbBWmgCy",
        "outputId": "74d019c4-9935-45bb-f199-a927766d5f74"
      },
      "outputs": [
        {
          "data": {
            "text/plain": [
              "((9975, 9996, 1), numpy.ndarray)"
            ]
          },
          "execution_count": 24,
          "metadata": {},
          "output_type": "execute_result"
        }
      ],
      "source": [
        "mrf = MiniRocketFeatures(X.shape[1], X.shape[2]).to(default_device())\n",
        "X_train = X[splits[0]]\n",
        "mrf.fit(X_train)\n",
        "X_feat = get_minirocket_features(X, mrf, chunksize=1024, to_np=True)\n",
        "X_feat.shape, type(X_feat)"
      ]
    },
    {
      "attachments": {},
      "cell_type": "markdown",
      "metadata": {
        "id": "UPKldUe9mgCz"
      },
      "source": [
        "X_train may be a np.ndarray or a torch.Tensor. In this case we'll pass a np.ndarray. \n",
        "\n",
        "If a torch.Tensor is passed, the model will move it to the right device (cuda) if necessary, so that it matches the model."
      ]
    },
    {
      "cell_type": "markdown",
      "metadata": {
        "id": "u1kmj0AvmgCz"
      },
      "source": [
        "We'll save this model, as we'll need it to create features in the future."
      ]
    },
    {
      "cell_type": "code",
      "execution_count": 30,
      "metadata": {
        "id": "ZXUUKYIFmgCz"
      },
      "outputs": [],
      "source": [
        "PATH = Path(\"./models/MRF.pt\")\n",
        "PATH.parent.mkdir(parents=True, exist_ok=True)\n",
        "torch.save(mrf.state_dict(), PATH)"
      ]
    },
    {
      "cell_type": "markdown",
      "metadata": {
        "id": "KwnA-VnQmgCz"
      },
      "source": [
        "As you can see the shape of the minirocket features is [sample_size x n_features x 1]. The last dimension (1) is added because `tsai` expects input data to have 3 dimensions, although in this case there's no longer a temporal dimension.\n",
        "\n",
        "Once the features are calculated, we'll need to train a Pytorch model. We'll use a simple linear model:"
      ]
    },
    {
      "cell_type": "code",
      "execution_count": 31,
      "metadata": {
        "id": "Pp0DND9HmgCz",
        "outputId": "63748c2d-affe-4f73-b8f2-bf01471653ba"
      },
      "outputs": [
        {
          "data": {
            "text/plain": [
              "Sequential(\n",
              "  (0): Flatten(start_dim=1, end_dim=-1)\n",
              "  (1): BatchNorm1d(9996, eps=1e-05, momentum=0.1, affine=True, track_running_stats=True)\n",
              "  (2): Linear(in_features=9996, out_features=1, bias=True)\n",
              ")"
            ]
          },
          "execution_count": 31,
          "metadata": {},
          "output_type": "execute_result"
        }
      ],
      "source": [
        "# Using tsai/fastai, create DataLoaders for the features in X_feat.\n",
        "tfms = [None, TSClassification()]\n",
        "batch_tfms = TSStandardize(by_sample=True)\n",
        "dls = get_ts_dls(X_feat, y, splits=splits, batch_tfms=batch_tfms)\n",
        "                 \n",
        "# model is a linear classifier Head\n",
        "model = build_ts_model(MiniRocketHead, dls=dls)\n",
        "model.head"
      ]
    },
    {
      "cell_type": "code",
      "execution_count": 37,
      "metadata": {
        "id": "w2vg7uPymgC0",
        "outputId": "9f4ff615-5a75-474d-bcd9-7823fa7e2863"
      },
      "outputs": [
        {
          "data": {
            "text/html": [],
            "text/plain": [
              "<IPython.core.display.HTML object>"
            ]
          },
          "metadata": {},
          "output_type": "display_data"
        },
        {
          "data": {
            "text/plain": [
              "SuggestedLRs(valley=5.248074739938602e-05)"
            ]
          },
          "execution_count": 37,
          "metadata": {},
          "output_type": "execute_result"
        },
        {
          "data": {
            "image/png": "[encoded data removed]",
            "text/plain": [
              "<Figure size 640x480 with 1 Axes>"
            ]
          },
          "metadata": {},
          "output_type": "display_data"
        }
      ],
      "source": [
        "# Using tsai/fastai, create DataLoaders for the features in X_feat.\n",
        "\n",
        "batch_tfms = TSStandardize(by_sample=True)\n",
        "dls = get_ts_dls(X_feat, y, splits=splits, batch_tfms=batch_tfms)\n",
        "                 \n",
        "# model is a linear classifier Head\n",
        "model = build_ts_model(MiniRocketHead,c_out=2, dls=dls)\n",
        "                 \n",
        "# Drop into fastai and use it to find a good learning rate.\n",
        "learn = Learner(dls, model, loss_func=LabelSmoothingCrossEntropyFlat(), metrics=accuracy, cbs=ShowGraph())\n",
        "learn.lr_find()"
      ]
    },
    {
      "cell_type": "code",
      "execution_count": 40,
      "metadata": {
        "id": "zeiRy7rfmgC0",
        "outputId": "3d362a60-7ac2-49a6-ea70-211fd5f818e4"
      },
      "outputs": [
        {
          "data": {
            "text/html": [
              "<table border=\"1\" class=\"dataframe\">\n",
              "  <thead>\n",
              "    <tr style=\"text-align: left;\">\n",
              "      <th>epoch</th>\n",
              "      <th>train_loss</th>\n",
              "      <th>valid_loss</th>\n",
              "      <th>accuracy</th>\n",
              "      <th>time</th>\n",
              "    </tr>\n",
              "  </thead>\n",
              "  <tbody>\n",
              "    <tr>\n",
              "      <td>0</td>\n",
              "      <td>0.692181</td>\n",
              "      <td>0.689216</td>\n",
              "      <td>0.542510</td>\n",
              "      <td>00:02</td>\n",
              "    </tr>\n",
              "    <tr>\n",
              "      <td>1</td>\n",
              "      <td>0.691119</td>\n",
              "      <td>0.685835</td>\n",
              "      <td>0.566802</td>\n",
              "      <td>00:02</td>\n",
              "    </tr>\n",
              "    <tr>\n",
              "      <td>2</td>\n",
              "      <td>0.687898</td>\n",
              "      <td>0.689593</td>\n",
              "      <td>0.560729</td>\n",
              "      <td>00:03</td>\n",
              "    </tr>\n",
              "    <tr>\n",
              "      <td>3</td>\n",
              "      <td>0.686306</td>\n",
              "      <td>0.691103</td>\n",
              "      <td>0.555668</td>\n",
              "      <td>00:03</td>\n",
              "    </tr>\n",
              "    <tr>\n",
              "      <td>4</td>\n",
              "      <td>0.682387</td>\n",
              "      <td>0.688422</td>\n",
              "      <td>0.566802</td>\n",
              "      <td>00:03</td>\n",
              "    </tr>\n",
              "    <tr>\n",
              "      <td>5</td>\n",
              "      <td>0.677909</td>\n",
              "      <td>0.686060</td>\n",
              "      <td>0.564777</td>\n",
              "      <td>00:02</td>\n",
              "    </tr>\n",
              "    <tr>\n",
              "      <td>6</td>\n",
              "      <td>0.671441</td>\n",
              "      <td>0.696800</td>\n",
              "      <td>0.534413</td>\n",
              "      <td>00:03</td>\n",
              "    </tr>\n",
              "    <tr>\n",
              "      <td>7</td>\n",
              "      <td>0.670179</td>\n",
              "      <td>0.686722</td>\n",
              "      <td>0.581984</td>\n",
              "      <td>00:03</td>\n",
              "    </tr>\n",
              "    <tr>\n",
              "      <td>8</td>\n",
              "      <td>0.663403</td>\n",
              "      <td>0.692572</td>\n",
              "      <td>0.569838</td>\n",
              "      <td>00:03</td>\n",
              "    </tr>\n",
              "    <tr>\n",
              "      <td>9</td>\n",
              "      <td>0.659610</td>\n",
              "      <td>0.690671</td>\n",
              "      <td>0.549595</td>\n",
              "      <td>00:03</td>\n",
              "    </tr>\n",
              "    <tr>\n",
              "      <td>10</td>\n",
              "      <td>0.653018</td>\n",
              "      <td>0.694522</td>\n",
              "      <td>0.557692</td>\n",
              "      <td>00:03</td>\n",
              "    </tr>\n",
              "    <tr>\n",
              "      <td>11</td>\n",
              "      <td>0.652861</td>\n",
              "      <td>0.688883</td>\n",
              "      <td>0.562753</td>\n",
              "      <td>00:03</td>\n",
              "    </tr>\n",
              "    <tr>\n",
              "      <td>12</td>\n",
              "      <td>0.646699</td>\n",
              "      <td>0.693603</td>\n",
              "      <td>0.540486</td>\n",
              "      <td>00:03</td>\n",
              "    </tr>\n",
              "    <tr>\n",
              "      <td>13</td>\n",
              "      <td>0.642790</td>\n",
              "      <td>0.691517</td>\n",
              "      <td>0.544534</td>\n",
              "      <td>00:03</td>\n",
              "    </tr>\n",
              "    <tr>\n",
              "      <td>14</td>\n",
              "      <td>0.639398</td>\n",
              "      <td>0.692405</td>\n",
              "      <td>0.553644</td>\n",
              "      <td>00:03</td>\n",
              "    </tr>\n",
              "    <tr>\n",
              "      <td>15</td>\n",
              "      <td>0.638570</td>\n",
              "      <td>0.691776</td>\n",
              "      <td>0.547571</td>\n",
              "      <td>00:03</td>\n",
              "    </tr>\n",
              "    <tr>\n",
              "      <td>16</td>\n",
              "      <td>0.636483</td>\n",
              "      <td>0.694378</td>\n",
              "      <td>0.541498</td>\n",
              "      <td>00:03</td>\n",
              "    </tr>\n",
              "    <tr>\n",
              "      <td>17</td>\n",
              "      <td>0.635261</td>\n",
              "      <td>0.693606</td>\n",
              "      <td>0.548583</td>\n",
              "      <td>00:03</td>\n",
              "    </tr>\n",
              "    <tr>\n",
              "      <td>18</td>\n",
              "      <td>0.637225</td>\n",
              "      <td>0.692685</td>\n",
              "      <td>0.547571</td>\n",
              "      <td>00:03</td>\n",
              "    </tr>\n",
              "    <tr>\n",
              "      <td>19</td>\n",
              "      <td>0.629920</td>\n",
              "      <td>0.691710</td>\n",
              "      <td>0.550607</td>\n",
              "      <td>00:03</td>\n",
              "    </tr>\n",
              "  </tbody>\n",
              "</table>"
            ],
            "text/plain": [
              "<IPython.core.display.HTML object>"
            ]
          },
          "metadata": {},
          "output_type": "display_data"
        },
        {
          "data": {
            "image/png": "[encoded data removed]",
            "text/plain": [
              "<Figure size 2000x400 with 3 Axes>"
            ]
          },
          "metadata": {},
          "output_type": "display_data"
        },
        {
          "data": {
            "text/plain": [
              "71.100347"
            ]
          },
          "execution_count": 40,
          "metadata": {},
          "output_type": "execute_result"
        }
      ],
      "source": [
        "# As above, use tsai to bring X_feat into fastai, and train.\n",
        "\n",
        "batch_tfms = TSStandardize(by_sample=True)\n",
        "dls = get_ts_dls(X_feat, y, splits=splits, batch_tfms=batch_tfms)\n",
        "\n",
        "model = build_ts_model(MiniRocketHead,c_out=2, dls=dls)\n",
        "learn = Learner(dls, model, loss_func=LabelSmoothingCrossEntropyFlat(), metrics=accuracy, cbs=ShowGraph())\n",
        "\n",
        "timer.start()\n",
        "learn.fit_one_cycle(20, 5e-5)\n",
        "timer.stop()"
      ]
    },
    {
      "cell_type": "markdown",
      "metadata": {
        "id": "TvyfacWymgC7"
      },
      "source": [
        "# Conclusion ✅"
      ]
    },
    {
      "cell_type": "markdown",
      "metadata": {
        "id": "F3XVjJZcmgC7"
      },
      "source": [
        "MiniRocket is a new type of algorithm that is significantly faster than any other method of comparable accuracy (including Rocket), and significantly more accurate than any other method of even roughly-similar computational expense. \n",
        "\n",
        "`tsai` supports the 2 variations of MiniRocket introduced in this notebook. A cpu version (that can be used with relatively small datasets, with <10k samples) and a gpu (Pytorch) version that can be used with datasets of any size. The Pytorch version can be used in an offline mode (pre-calculating all features before fitting the model) or in an online mode (calculating features on the fly). \n",
        "\n",
        "We believe MiniRocket is a great new tool, and encourange you to try it in your next Time Series Classification or Regression task. "
      ]
    }
  ],
  "metadata": {
    "colab": {
      "provenance": []
    },
    "kernelspec": {
      "display_name": "base",
      "language": "python",
      "name": "python3"
    },
    "language_info": {
      "codemirror_mode": {
        "name": "ipython",
        "version": 3
      },
      "file_extension": ".py",
      "mimetype": "text/x-python",
      "name": "python",
      "nbconvert_exporter": "python",
      "pygments_lexer": "ipython3",
      "version": "3.9.13"
    },
    "vscode": {
      "interpreter": {
        "hash": "adfb25ce21feaa9a3fcc67ce2af0e733a33e84b69e4810e5869c855f113d60a4"
      }
    }
  },
  "nbformat": 4,
  "nbformat_minor": 0
}

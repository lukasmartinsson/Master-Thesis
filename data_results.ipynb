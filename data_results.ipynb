{
 "cells": [
  {
   "cell_type": "code",
   "execution_count": 8,
   "metadata": {},
   "outputs": [],
   "source": [
    "import pandas as pd\n",
    "import os"
   ]
  },
  {
   "cell_type": "code",
   "execution_count": 9,
   "metadata": {},
   "outputs": [],
   "source": [
    "#Original files\n",
    "org_folder_path = 'Optimizer\\data_optimization\\All_results\\Original'\n",
    "mod_folder_path = 'Optimizer\\data_optimization\\All_results\\Modified'\n",
    "\n",
    "# loop through each file in the folder\n",
    "for file_name in os.listdir(org_folder_path):\n",
    "    if file_name.endswith('.csv'):\n",
    "        # read the file into a dataframe\n",
    "        df = pd.read_csv(os.path.join(org_folder_path, file_name))\n",
    "\n",
    "        #Add column with test_size\n",
    "        if '100' in file_name:\n",
    "            df['test_size'] = '100'\n",
    "        else:\n",
    "            df['test_size'] = '5%'\n",
    "        \n",
    "        #Add column with task (class/reg)\n",
    "        if 'reg' in file_name:\n",
    "            df['task'] = 'reg'\n",
    "        else:\n",
    "            df['task'] = 'class'\n",
    "\n",
    "        #Add column with timestep\n",
    "        if '_1min' in file_name:\n",
    "            df['time_step'] = '1min'\n",
    "            df['lag_minute'] = df['lag']\n",
    "        elif '_5min' in  file_name:\n",
    "            df['time_step'] = '5min'\n",
    "            df['lag_minute'] = 5*df['lag']\n",
    "        else:\n",
    "            df['time_step'] = '15min'\n",
    "            df['lag_minute'] = 15*df['lag']\n",
    "\n",
    "        #Add a true/false indicator of index\n",
    "        df['index_bin'] = df['index'].notna()\n",
    "\n",
    "        # write the modified dataframe back to the file\n",
    "        df.to_csv(os.path.join(mod_folder_path, file_name), index=False)"
   ]
  },
  {
   "cell_type": "code",
   "execution_count": 10,
   "metadata": {},
   "outputs": [],
   "source": [
    "fin_folder_path = 'Optimizer\\data_optimization\\All_results\\Final\\Concatenaded_df.csv'\n",
    "\n",
    "# initialize an empty list to store the dataframes\n",
    "dfs = []\n",
    "\n",
    "# loop through each file in the folder\n",
    "for file_name in os.listdir(mod_folder_path):\n",
    "    if file_name.endswith('.csv'):\n",
    "        # read the file into a dataframe and append it to the list\n",
    "        df = pd.read_csv(os.path.join(mod_folder_path, file_name))\n",
    "        dfs.append(df)\n",
    "\n",
    "# concatenate all the dataframes in the list into a single dataframe\n",
    "result_df = pd.concat(dfs)\n",
    "\n",
    "# save the concatenated dataframe as a CSV file\n",
    "result_df.to_csv(fin_folder_path, index=False)"
   ]
  },
  {
   "cell_type": "code",
   "execution_count": 11,
   "metadata": {},
   "outputs": [],
   "source": [
    "def get_results(df, groupby_col):\n",
    "    agg_results = df.groupby(groupby_col).agg({'bin_accuracy': ['mean', 'max', 'min', 'count']}).reset_index()\n",
    "    agg_results.columns = [groupby_col, 'Mean', 'High', 'Low', 'Count']\n",
    "    agg_results = agg_results.sort_values(by='Mean', ascending=False)\n",
    "    return agg_results\n",
    "\n",
    "#Variant av de du gjort tidigare!\n",
    "def print_results(df, groupby_cols):\n",
    "    results = {col: get_results(df, col) for col in groupby_cols}\n",
    "\n",
    "    for col in groupby_cols:\n",
    "        print(f\"Results for {col}:\")\n",
    "        print(results[col])"
   ]
  },
  {
   "cell_type": "code",
   "execution_count": 12,
   "metadata": {},
   "outputs": [],
   "source": [
    "df = pd.read_csv(fin_folder_path).fillna('None').sort_values(by='bin_accuracy', ascending=False)\n",
    "#print(df.head(10)[['model','lag_minute','dif_all','index','TI','bin_accuracy','time_step','buckets']])\n",
    "\n",
    "#Split dataframe into regression and classification\n",
    "df_reg = df[df['task'] == 'reg']\n",
    "df_class = df[df['task'] == 'class']\n",
    "\n",
    "#Extract trials where test_size = 100\n",
    "reg_100 = df_reg[df_reg['test_size']=='100']\n",
    "class_100 = df_class[df_class['test_size']=='100']\n",
    "\n",
    "#Extract individual reg results\n",
    "mini_reg= reg_100[reg_100['model']=='mini_rocket_reg']\n",
    "tst_reg = reg_100[reg_100['model']=='tst_reg']\n",
    "lstm_reg = reg_100[reg_100['model']=='lstm_reg']\n",
    "lstm_fcn_reg = reg_100[reg_100['model']=='lstm_fcn_reg']\n",
    "\n",
    "#Extract individual results\n",
    "mini_class = class_100[class_100['model']=='mini_rocket_class']\n",
    "tst_class = class_100[class_100['model']=='tst_class']\n",
    "lstm_class = class_100[class_100['model']=='lstm_class']\n",
    "lstm_fcn_class = class_100[class_100['model']=='lstm_fcn_class']"
   ]
  },
  {
   "cell_type": "code",
   "execution_count": 13,
   "metadata": {},
   "outputs": [
    {
     "data": {
      "text/plain": [
       "<Axes: >"
      ]
     },
     "execution_count": 13,
     "metadata": {},
     "output_type": "execute_result"
    },
    {
     "data": {
      "image/png": "[encoded data removed]",
      "text/plain": [
       "<Figure size 640x480 with 1 Axes>"
      ]
     },
     "metadata": {},
     "output_type": "display_data"
    }
   ],
   "source": [
    "df['bin_accuracy'].hist(bins = 30)"
   ]
  },
  {
   "cell_type": "code",
   "execution_count": 14,
   "metadata": {},
   "outputs": [
    {
     "name": "stdout",
     "output_type": "stream",
     "text": [
      "Results for task:\n",
      "    task      Mean  High   Low  Count\n",
      "0  class  0.509798   0.7  0.33   1200\n",
      "1    reg  0.499127   0.6  0.37   1200\n"
     ]
    }
   ],
   "source": [
    "#Compare task accuracy\n",
    "print_results(df,['task'])"
   ]
  },
  {
   "cell_type": "code",
   "execution_count": 15,
   "metadata": {},
   "outputs": [
    {
     "name": "stdout",
     "output_type": "stream",
     "text": [
      "Regression\n",
      "Results for test_size:\n",
      "  test_size      Mean      High       Low  Count\n",
      "1        5%  0.500753  0.551402  0.444593    600\n",
      "0       100  0.497500  0.600000  0.370000    600\n",
      "\n",
      "Classification\n",
      "Results for test_size:\n",
      "  test_size      Mean      High       Low  Count\n",
      "0       100  0.518633  0.700000  0.330000    600\n",
      "1        5%  0.500963  0.536268  0.452477    600\n"
     ]
    }
   ],
   "source": [
    "#Compare test size for reg and class\n",
    "print('Regression')\n",
    "print_results(df_reg,['test_size'])\n",
    "\n",
    "print('\\nClassification')\n",
    "print_results(df_class,['test_size'])"
   ]
  },
  {
   "cell_type": "code",
   "execution_count": 16,
   "metadata": {},
   "outputs": [
    {
     "name": "stdout",
     "output_type": "stream",
     "text": [
      "Regression\n",
      "Results for model:\n",
      "             model      Mean  High   Low  Count\n",
      "0     lstm_fcn_reg  0.505667  0.59  0.39    150\n",
      "2  mini_rocket_reg  0.500667  0.60  0.40    150\n",
      "3          tst_reg  0.497600  0.59  0.37    150\n",
      "1         lstm_reg  0.486067  0.59  0.37    150\n",
      "\n",
      "Classification\n",
      "Results for model:\n",
      "               model      Mean  High   Low  Count\n",
      "3          tst_class  0.526467  0.70  0.34    150\n",
      "0         lstm_class  0.523600  0.70  0.33    150\n",
      "1     lstm_fcn_class  0.522467  0.67  0.35    150\n",
      "2  mini_rocket_class  0.502000  0.67  0.35    150\n"
     ]
    }
   ],
   "source": [
    "#Compare model performance for test_size = 100\n",
    "print('Regression')\n",
    "print_results(reg_100,['model'])\n",
    "\n",
    "print('\\nClassification')\n",
    "print_results(class_100,['model'])"
   ]
  },
  {
   "cell_type": "code",
   "execution_count": 17,
   "metadata": {},
   "outputs": [
    {
     "name": "stdout",
     "output_type": "stream",
     "text": [
      "Minirocket classification\n",
      "Results for lag_minute:\n",
      "   lag_minute      Mean  High   Low  Count\n",
      "1           5  0.506000  0.59  0.40     20\n",
      "2          15  0.501652  0.67  0.35    115\n",
      "0           1  0.499333  0.61  0.40     15\n",
      "Results for dif_all:\n",
      "   dif_all      Mean  High   Low  Count\n",
      "0    False  0.503509  0.66  0.35     57\n",
      "1     True  0.501075  0.67  0.36     93\n",
      "Results for index_bin:\n",
      "   index_bin      Mean  High   Low  Count\n",
      "1       True  0.504262  0.64  0.36     61\n",
      "0      False  0.500449  0.67  0.35     89\n",
      "Results for TI:\n",
      "      TI      Mean  High   Low  Count\n",
      "0  False  0.503505  0.66  0.35     97\n",
      "1   True  0.499245  0.67  0.36     53\n",
      "Results for time_step:\n",
      "  time_step    Mean  High   Low  Count\n",
      "2      5min  0.5226  0.66  0.36     50\n",
      "1      1min  0.5062  0.67  0.35     50\n",
      "0     15min  0.4772  0.58  0.36     50\n",
      "Results for buckets:\n",
      "  buckets      Mean  High   Low  Count\n",
      "2      15  0.523023  0.67  0.36     43\n",
      "1      10  0.500769  0.61  0.38     52\n",
      "3       3  0.488621  0.64  0.35     29\n",
      "0       1  0.486923  0.55  0.36     13\n",
      "4       5  0.482308  0.53  0.40     13\n"
     ]
    }
   ],
   "source": [
    "print('Minirocket classification')\n",
    "print_results(mini_class,['lag_minute','dif_all','index_bin','TI','time_step','buckets'])"
   ]
  },
  {
   "cell_type": "code",
   "execution_count": 18,
   "metadata": {},
   "outputs": [
    {
     "name": "stdout",
     "output_type": "stream",
     "text": [
      "                  model  lag_minute  dif_all  index_bin     TI  bin_accuracy  \\\n",
      "1329  mini_rocket_class          15     True      False   True          0.67   \n",
      "1435  mini_rocket_class          15    False      False  False          0.66   \n",
      "1332  mini_rocket_class          15     True      False   True          0.66   \n",
      "1410  mini_rocket_class          15     True       True  False          0.64   \n",
      "1336  mini_rocket_class          15     True       True   True          0.64   \n",
      "\n",
      "     time_step buckets  \n",
      "1329      1min      15  \n",
      "1435      5min      15  \n",
      "1332      1min      15  \n",
      "1410      5min      15  \n",
      "1336      1min       3  \n"
     ]
    }
   ],
   "source": [
    "print(mini_class.head(5)[['model','lag_minute','dif_all','index_bin','TI','bin_accuracy','time_step','buckets']])"
   ]
  },
  {
   "cell_type": "code",
   "execution_count": 19,
   "metadata": {},
   "outputs": [
    {
     "name": "stdout",
     "output_type": "stream",
     "text": [
      "Mini-rocket best-classification\n",
      "Results for model:\n",
      "               model      Mean  High   Low  Count\n",
      "0  mini_rocket_class  0.526667  0.67  0.37      6\n"
     ]
    }
   ],
   "source": [
    "mini_class_best = mini_class[(mini_class['lag_minute']==15)&\n",
    "                           (mini_class['dif_all']==True)&\n",
    "                           (mini_class['index_bin']==False)&\n",
    "                           (mini_class['TI']==True)&\n",
    "                           (mini_class['time_step']=='1min')&\n",
    "                           (mini_class['buckets']=='15')]\n",
    "\n",
    "print('Mini-rocket best-classification')\n",
    "#Hahaha den körde aldrig bästa kombon, så tog den som den konvergera till mest ggr\n",
    "print_results(mini_class_best,['model'])"
   ]
  },
  {
   "cell_type": "code",
   "execution_count": 20,
   "metadata": {},
   "outputs": [
    {
     "name": "stdout",
     "output_type": "stream",
     "text": [
      "Minirocket Regression\n",
      "Results for lag_minute:\n",
      "   lag_minute      Mean  High   Low  Count\n",
      "2          15  0.504805  0.60  0.40     77\n",
      "1           5  0.497647  0.56  0.44     51\n",
      "0           1  0.493182  0.56  0.41     22\n",
      "Results for dif_all:\n",
      "   dif_all      Mean  High   Low  Count\n",
      "0    False  0.502535  0.60  0.40     71\n",
      "1     True  0.498987  0.56  0.41     79\n",
      "Results for index_bin:\n",
      "   index_bin      Mean  High   Low  Count\n",
      "1       True  0.501200  0.60  0.40     75\n",
      "0      False  0.500133  0.56  0.41     75\n",
      "Results for TI:\n",
      "      TI      Mean  High   Low  Count\n",
      "0  False  0.501616  0.60  0.40     99\n",
      "1   True  0.498824  0.56  0.44     51\n",
      "Results for time_step:\n",
      "  time_step    Mean  High   Low  Count\n",
      "0     15min  0.5044  0.60  0.40     50\n",
      "2      5min  0.4992  0.56  0.44     50\n",
      "1      1min  0.4984  0.56  0.41     50\n",
      "Results for buckets:\n",
      "  buckets      Mean  High  Low  Count\n",
      "0    None  0.500667   0.6  0.4    150\n"
     ]
    }
   ],
   "source": [
    "print('Minirocket Regression')\n",
    "print_results(mini_reg,['lag_minute','dif_all','index_bin','TI','time_step','buckets'])"
   ]
  },
  {
   "cell_type": "code",
   "execution_count": 21,
   "metadata": {},
   "outputs": [
    {
     "name": "stdout",
     "output_type": "stream",
     "text": [
      "                model  lag_minute  dif_all  index_bin     TI  bin_accuracy  \\\n",
      "1515  mini_rocket_reg          15    False       True  False          0.60   \n",
      "1513  mini_rocket_reg          15    False       True  False          0.57   \n",
      "1539  mini_rocket_reg          15    False       True  False          0.57   \n",
      "1544  mini_rocket_reg          15    False       True  False          0.57   \n",
      "1510  mini_rocket_reg          15    False       True  False          0.56   \n",
      "\n",
      "     time_step buckets  \n",
      "1515     15min    None  \n",
      "1513     15min    None  \n",
      "1539     15min    None  \n",
      "1544     15min    None  \n",
      "1510     15min    None  \n"
     ]
    }
   ],
   "source": [
    "print(mini_reg.head(5)[['model','lag_minute','dif_all','index_bin','TI','bin_accuracy','time_step','buckets']])"
   ]
  },
  {
   "cell_type": "code",
   "execution_count": 22,
   "metadata": {},
   "outputs": [
    {
     "name": "stdout",
     "output_type": "stream",
     "text": [
      "Mini-rocket best-regression\n",
      "Results for model:\n",
      "             model      Mean  High  Low  Count\n",
      "0  mini_rocket_reg  0.503704   0.6  0.4     27\n"
     ]
    }
   ],
   "source": [
    "mini_reg_best = mini_reg[(mini_reg['lag_minute']==15)&\n",
    "                           (mini_reg['dif_all']==False)&\n",
    "                           (mini_reg['index_bin']==True)&\n",
    "                           (mini_reg['TI']==False)&\n",
    "                           (mini_reg['time_step']=='15min')]\n",
    "\n",
    "print('Mini-rocket best-regression')\n",
    "#Hahaha den körde aldrig bästa kombon, så tog den som den konvergera till mest ggr\n",
    "print_results(mini_reg_best,['model'])"
   ]
  },
  {
   "cell_type": "code",
   "execution_count": 23,
   "metadata": {},
   "outputs": [
    {
     "name": "stdout",
     "output_type": "stream",
     "text": [
      "TST classification\n",
      "Results for lag_minute:\n",
      "   lag_minute      Mean  High   Low  Count\n",
      "2          15  0.528478  0.70  0.34     92\n",
      "1           5  0.526596  0.63  0.36     47\n",
      "0           1  0.509091  0.56  0.43     11\n",
      "Results for dif_all:\n",
      "   dif_all      Mean  High   Low  Count\n",
      "1     True  0.534787  0.70  0.34     94\n",
      "0    False  0.512500  0.62  0.36     56\n",
      "Results for index_bin:\n",
      "   index_bin      Mean  High   Low  Count\n",
      "0      False  0.532414  0.70  0.34    116\n",
      "1       True  0.506176  0.59  0.39     34\n",
      "Results for TI:\n",
      "      TI      Mean  High   Low  Count\n",
      "1   True  0.530909  0.70  0.34     88\n",
      "0  False  0.520161  0.62  0.36     62\n",
      "Results for time_step:\n",
      "  time_step    Mean  High   Low  Count\n",
      "1      1min  0.5452  0.70  0.34     50\n",
      "2      5min  0.5202  0.62  0.36     50\n",
      "0     15min  0.5140  0.57  0.41     50\n",
      "Results for buckets:\n",
      "  buckets      Mean  High   Low  Count\n",
      "0       1  0.538704  0.61  0.40     54\n",
      "1      10  0.536957  0.70  0.34     46\n",
      "4       5  0.511176  0.57  0.42     17\n",
      "2      15  0.505556  0.56  0.41     18\n",
      "3       3  0.492667  0.61  0.36     15\n"
     ]
    }
   ],
   "source": [
    "print('TST classification')\n",
    "print_results(tst_class,['lag_minute','dif_all','index_bin','TI','time_step','buckets'])"
   ]
  },
  {
   "cell_type": "code",
   "execution_count": 24,
   "metadata": {},
   "outputs": [
    {
     "name": "stdout",
     "output_type": "stream",
     "text": [
      "          model  lag_minute  dif_all  index_bin    TI  bin_accuracy time_step  \\\n",
      "1910  tst_class          15     True      False  True          0.70      1min   \n",
      "1917  tst_class          15     True      False  True          0.70      1min   \n",
      "1944  tst_class          15     True      False  True          0.69      1min   \n",
      "1912  tst_class          15     True      False  True          0.67      1min   \n",
      "1923  tst_class          15     True      False  True          0.64      1min   \n",
      "\n",
      "     buckets  \n",
      "1910      10  \n",
      "1917      10  \n",
      "1944      10  \n",
      "1912      10  \n",
      "1923      10  \n"
     ]
    }
   ],
   "source": [
    "print(tst_class.head(5)[['model','lag_minute','dif_all','index_bin','TI','bin_accuracy','time_step','buckets']])"
   ]
  },
  {
   "cell_type": "code",
   "execution_count": 25,
   "metadata": {},
   "outputs": [
    {
     "name": "stdout",
     "output_type": "stream",
     "text": [
      "TST best-classification\n",
      "Results for model:\n",
      "       model      Mean  High   Low  Count\n",
      "0  tst_class  0.560952   0.7  0.34     21\n"
     ]
    }
   ],
   "source": [
    "tst_class_best = tst_class[(tst_class['lag_minute']==15)&\n",
    "                           (tst_class['dif_all']==True)&\n",
    "                           (tst_class['index_bin']==False)&\n",
    "                           (tst_class['TI']==True)&\n",
    "                           (tst_class['time_step']=='1min')&\n",
    "                           (tst_class['buckets']=='10')]\n",
    "\n",
    "print('TST best-classification')\n",
    "print_results(tst_class_best,['model'])"
   ]
  },
  {
   "cell_type": "code",
   "execution_count": 26,
   "metadata": {},
   "outputs": [
    {
     "name": "stdout",
     "output_type": "stream",
     "text": [
      "TST regression\n",
      "Results for lag_minute:\n",
      "   lag_minute      Mean  High   Low  Count\n",
      "0           1  0.508065  0.58  0.43     31\n",
      "1           5  0.503111  0.58  0.43     45\n",
      "2          15  0.489865  0.59  0.37     74\n",
      "Results for dif_all:\n",
      "   dif_all      Mean  High   Low  Count\n",
      "0    False  0.498205  0.59  0.39     78\n",
      "1     True  0.496944  0.58  0.37     72\n",
      "Results for index_bin:\n",
      "   index_bin      Mean  High   Low  Count\n",
      "0      False  0.498864  0.58  0.39     88\n",
      "1       True  0.495806  0.59  0.37     62\n",
      "Results for TI:\n",
      "      TI      Mean  High   Low  Count\n",
      "0  False  0.501646  0.59  0.41     79\n",
      "1   True  0.493099  0.58  0.37     71\n",
      "Results for time_step:\n",
      "  time_step    Mean  High   Low  Count\n",
      "1      1min  0.5020  0.58  0.43     50\n",
      "2      5min  0.4968  0.58  0.39     50\n",
      "0     15min  0.4940  0.59  0.37     50\n",
      "Results for buckets:\n",
      "  buckets    Mean  High   Low  Count\n",
      "0    None  0.4976  0.59  0.37    150\n"
     ]
    }
   ],
   "source": [
    "print('TST regression')\n",
    "print_results(tst_reg,['lag_minute','dif_all','index_bin','TI','time_step','buckets'])"
   ]
  },
  {
   "cell_type": "code",
   "execution_count": 27,
   "metadata": {},
   "outputs": [
    {
     "name": "stdout",
     "output_type": "stream",
     "text": [
      "        model  lag_minute  dif_all  index_bin     TI  bin_accuracy time_step  \\\n",
      "2105  tst_reg          15    False       True  False          0.59     15min   \n",
      "2342  tst_reg          15    False      False  False          0.58      5min   \n",
      "2228  tst_reg           1     True      False  False          0.58      1min   \n",
      "2301  tst_reg           5     True      False   True          0.58      5min   \n",
      "2327  tst_reg           5     True      False   True          0.58      5min   \n",
      "\n",
      "     buckets  \n",
      "2105    None  \n",
      "2342    None  \n",
      "2228    None  \n",
      "2301    None  \n",
      "2327    None  \n"
     ]
    }
   ],
   "source": [
    "print(tst_reg.head(5)[['model','lag_minute','dif_all','index_bin','TI','bin_accuracy','time_step','buckets']])"
   ]
  },
  {
   "cell_type": "code",
   "execution_count": 28,
   "metadata": {},
   "outputs": [
    {
     "name": "stdout",
     "output_type": "stream",
     "text": [
      "TST best-reg\n",
      "Results for model:\n",
      "Empty DataFrame\n",
      "Columns: [model, Mean, High, Low, Count]\n",
      "Index: []\n"
     ]
    }
   ],
   "source": [
    "tst_reg_best = tst_reg[(tst_reg['lag_minute']==15)&\n",
    "                           (tst_reg['dif_all']==True)&\n",
    "                           (tst_reg['index_bin']==False)&\n",
    "                           (tst_reg['TI']==False)&\n",
    "                           (tst_reg['time_step']=='5min')]\n",
    "\n",
    "print('TST best-reg')\n",
    "print_results(tst_reg_best,['model'])"
   ]
  },
  {
   "cell_type": "code",
   "execution_count": 29,
   "metadata": {},
   "outputs": [
    {
     "name": "stdout",
     "output_type": "stream",
     "text": [
      "LSTM_FCN classification\n",
      "Results for lag_minute:\n",
      "   lag_minute      Mean  High   Low  Count\n",
      "2          15  0.524190  0.65  0.35    105\n",
      "1           5  0.521316  0.67  0.40     38\n",
      "0           1  0.502857  0.53  0.47      7\n",
      "Results for dif_all:\n",
      "   dif_all      Mean  High   Low  Count\n",
      "0    False  0.525167  0.67  0.40     60\n",
      "1     True  0.520667  0.66  0.35     90\n",
      "Results for index_bin:\n",
      "   index_bin      Mean  High   Low  Count\n",
      "1       True  0.524505  0.66  0.35    111\n",
      "0      False  0.516667  0.67  0.40     39\n",
      "Results for TI:\n",
      "      TI      Mean  High   Low  Count\n",
      "0  False  0.525930  0.64  0.35     86\n",
      "1   True  0.517813  0.67  0.35     64\n",
      "Results for time_step:\n",
      "  time_step    Mean  High   Low  Count\n",
      "1      1min  0.5248  0.67  0.40     50\n",
      "2      5min  0.5244  0.62  0.43     50\n",
      "0     15min  0.5182  0.62  0.35     50\n",
      "Results for buckets:\n",
      "  buckets      Mean  High   Low  Count\n",
      "3       3  0.528205  0.62  0.40     39\n",
      "0       1  0.524828  0.66  0.41     29\n",
      "2      15  0.522143  0.64  0.35     28\n",
      "1      10  0.519600  0.67  0.40     25\n",
      "4       5  0.515172  0.65  0.35     29\n"
     ]
    }
   ],
   "source": [
    "print('LSTM_FCN classification')\n",
    "print_results(lstm_fcn_class,['lag_minute','dif_all','index_bin','TI','time_step','buckets'])"
   ]
  },
  {
   "cell_type": "code",
   "execution_count": 30,
   "metadata": {},
   "outputs": [
    {
     "name": "stdout",
     "output_type": "stream",
     "text": [
      "Results for lag_minute:\n",
      "   lag_minute      Mean  High   Low  Count\n",
      "2          15  0.524190  0.65  0.35    105\n",
      "1           5  0.521316  0.67  0.40     38\n",
      "0           1  0.502857  0.53  0.47      7\n",
      "Results for dif_all:\n",
      "   dif_all      Mean  High   Low  Count\n",
      "0    False  0.525167  0.67  0.40     60\n",
      "1     True  0.520667  0.66  0.35     90\n",
      "Results for index_bin:\n",
      "   index_bin      Mean  High   Low  Count\n",
      "1       True  0.524505  0.66  0.35    111\n",
      "0      False  0.516667  0.67  0.40     39\n",
      "Results for TI:\n",
      "      TI      Mean  High   Low  Count\n",
      "0  False  0.525930  0.64  0.35     86\n",
      "1   True  0.517813  0.67  0.35     64\n",
      "Results for time_step:\n",
      "  time_step    Mean  High   Low  Count\n",
      "1      1min  0.5248  0.67  0.40     50\n",
      "2      5min  0.5244  0.62  0.43     50\n",
      "0     15min  0.5182  0.62  0.35     50\n",
      "Results for buckets:\n",
      "  buckets      Mean  High   Low  Count\n",
      "3       3  0.528205  0.62  0.40     39\n",
      "0       1  0.524828  0.66  0.41     29\n",
      "2      15  0.522143  0.64  0.35     28\n",
      "1      10  0.519600  0.67  0.40     25\n",
      "4       5  0.515172  0.65  0.35     29\n"
     ]
    }
   ],
   "source": [
    "print_results(lstm_fcn_class,['lag_minute','dif_all','index_bin','TI','time_step','buckets'])"
   ]
  },
  {
   "cell_type": "code",
   "execution_count": 31,
   "metadata": {},
   "outputs": [
    {
     "name": "stdout",
     "output_type": "stream",
     "text": [
      "lstm_fcn best-classification\n",
      "Results for model:\n",
      "            model  Mean  High   Low  Count\n",
      "0  lstm_fcn_class  0.45  0.45  0.45      1\n"
     ]
    }
   ],
   "source": [
    "lstm_fcn_class_best = lstm_fcn_class[(lstm_fcn_class['lag_minute']==5)&\n",
    "                           (lstm_fcn_class['dif_all']==True)&\n",
    "                           (lstm_fcn_class['index_bin']==True)&\n",
    "                           (lstm_fcn_class['TI']==True)&\n",
    "                           (lstm_fcn_class['time_step']=='1min')&\n",
    "                           (lstm_fcn_class['buckets']=='5')]\n",
    "\n",
    "print('lstm_fcn best-classification')\n",
    "print_results(lstm_fcn_class_best,['model'])"
   ]
  },
  {
   "cell_type": "code",
   "execution_count": 32,
   "metadata": {},
   "outputs": [
    {
     "name": "stdout",
     "output_type": "stream",
     "text": [
      "LSTM_FCN Regression\n",
      "Results for lag_minute:\n",
      "   lag_minute      Mean  High   Low  Count\n",
      "2          15  0.506762  0.59  0.42    105\n",
      "0           1  0.504211  0.57  0.39     19\n",
      "1           5  0.502308  0.57  0.40     26\n",
      "Results for dif_all:\n",
      "   dif_all      Mean  High   Low  Count\n",
      "1     True  0.509254  0.58  0.39     67\n",
      "0    False  0.502771  0.59  0.40     83\n",
      "Results for index_bin:\n",
      "   index_bin    Mean  High   Low  Count\n",
      "0      False  0.5058  0.59  0.40    100\n",
      "1       True  0.5054  0.58  0.39     50\n",
      "Results for TI:\n",
      "      TI      Mean  High   Low  Count\n",
      "0  False  0.505714  0.59  0.40     70\n",
      "1   True  0.505625  0.58  0.39     80\n",
      "Results for time_step:\n",
      "  time_step    Mean  High   Low  Count\n",
      "0     15min  0.5126  0.58  0.43     50\n",
      "1      1min  0.5094  0.57  0.39     50\n",
      "2      5min  0.4950  0.59  0.40     50\n",
      "Results for buckets:\n",
      "  buckets      Mean  High   Low  Count\n",
      "0    None  0.505667  0.59  0.39    150\n"
     ]
    }
   ],
   "source": [
    "print('LSTM_FCN Regression')\n",
    "print_results(lstm_fcn_reg,['lag_minute','dif_all','index_bin','TI','time_step','buckets'])"
   ]
  },
  {
   "cell_type": "code",
   "execution_count": 33,
   "metadata": {},
   "outputs": [
    {
     "name": "stdout",
     "output_type": "stream",
     "text": [
      "            model  lag_minute  dif_all  index_bin     TI  bin_accuracy  \\\n",
      "838  lstm_fcn_reg          15    False      False  False          0.59   \n",
      "627  lstm_fcn_reg          15     True       True   True          0.58   \n",
      "828  lstm_fcn_reg          15    False      False  False          0.58   \n",
      "646  lstm_fcn_reg          15    False      False   True          0.58   \n",
      "717  lstm_fcn_reg           1    False      False   True          0.57   \n",
      "\n",
      "    time_step buckets  \n",
      "838      5min    None  \n",
      "627     15min    None  \n",
      "828      5min    None  \n",
      "646     15min    None  \n",
      "717      1min    None  \n"
     ]
    }
   ],
   "source": [
    "print(lstm_fcn_reg.head(5)[['model','lag_minute','dif_all','index_bin','TI','bin_accuracy','time_step','buckets']])"
   ]
  },
  {
   "cell_type": "code",
   "execution_count": 34,
   "metadata": {},
   "outputs": [
    {
     "name": "stdout",
     "output_type": "stream",
     "text": [
      "lstm_fcn best-reg\n",
      "Results for model:\n",
      "          model   Mean  High   Low  Count\n",
      "0  lstm_fcn_reg  0.536  0.58  0.46      5\n"
     ]
    }
   ],
   "source": [
    "lstm_fcn_reg_best = lstm_fcn_reg[(lstm_fcn_reg['lag_minute']==15)&\n",
    "                           (lstm_fcn_reg['dif_all']==False)&\n",
    "                           (lstm_fcn_reg['index_bin']==False)&\n",
    "                           (lstm_fcn_reg['TI']==True)&\n",
    "                           (lstm_fcn_reg['time_step']=='15min')]\n",
    "\n",
    "print('lstm_fcn best-reg')\n",
    "print_results(lstm_fcn_reg_best,['model'])"
   ]
  },
  {
   "cell_type": "code",
   "execution_count": 35,
   "metadata": {},
   "outputs": [
    {
     "name": "stdout",
     "output_type": "stream",
     "text": [
      "LSTM classification\n",
      "Results for lag_minute:\n",
      "   lag_minute      Mean  High   Low  Count\n",
      "1           5  0.549836  0.70  0.41     61\n",
      "0           1  0.517000  0.61  0.42     10\n",
      "2          15  0.504177  0.65  0.33     79\n",
      "Results for dif_all:\n",
      "   dif_all      Mean  High   Low  Count\n",
      "0    False  0.533853  0.70  0.36    109\n",
      "1     True  0.496341  0.65  0.33     41\n",
      "Results for index_bin:\n",
      "   index_bin      Mean  High   Low  Count\n",
      "0      False  0.533814  0.70  0.39     97\n",
      "1       True  0.504906  0.63  0.33     53\n",
      "Results for TI:\n",
      "      TI      Mean  High   Low  Count\n",
      "1   True  0.535455  0.70  0.33     88\n",
      "0  False  0.506774  0.63  0.36     62\n",
      "Results for time_step:\n",
      "  time_step    Mean  High   Low  Count\n",
      "2      5min  0.5510  0.70  0.42     50\n",
      "1      1min  0.5124  0.65  0.33     50\n",
      "0     15min  0.5074  0.63  0.39     50\n",
      "Results for buckets:\n",
      "  buckets      Mean  High   Low  Count\n",
      "3       3  0.544615  0.70  0.36     52\n",
      "0       1  0.526512  0.65  0.39     43\n",
      "2      15  0.515263  0.61  0.39     19\n",
      "4       5  0.500952  0.63  0.39     21\n",
      "1      10  0.484667  0.60  0.33     15\n"
     ]
    }
   ],
   "source": [
    "print('LSTM classification')\n",
    "print_results(lstm_class,['lag_minute','dif_all','index_bin','TI','time_step','buckets'])"
   ]
  },
  {
   "cell_type": "code",
   "execution_count": 36,
   "metadata": {},
   "outputs": [
    {
     "name": "stdout",
     "output_type": "stream",
     "text": [
      "          model  lag_minute  dif_all  index_bin     TI  bin_accuracy  \\\n",
      "209  lstm_class           5    False      False   True          0.70   \n",
      "138  lstm_class          15     True      False   True          0.65   \n",
      "116  lstm_class           5    False       True   True          0.63   \n",
      "227  lstm_class           5    False      False   True          0.63   \n",
      "145  lstm_class          15     True      False  False          0.63   \n",
      "\n",
      "    time_step buckets  \n",
      "209      5min       3  \n",
      "138      1min       1  \n",
      "116      1min       5  \n",
      "227      5min       3  \n",
      "145      1min       1  \n"
     ]
    }
   ],
   "source": [
    "print(lstm_class.head(5)[['model','lag_minute','dif_all','index_bin','TI','bin_accuracy','time_step','buckets']])"
   ]
  },
  {
   "cell_type": "code",
   "execution_count": 37,
   "metadata": {},
   "outputs": [
    {
     "name": "stdout",
     "output_type": "stream",
     "text": [
      "lstm best-classification\n",
      "Results for model:\n",
      "        model      Mean  High  Low  Count\n",
      "0  lstm_class  0.592609   0.7  0.5     23\n"
     ]
    }
   ],
   "source": [
    "lstm_class_best = lstm_class[(lstm_class['lag_minute']==5)&\n",
    "                           (lstm_class['dif_all']==False)&\n",
    "                           (lstm_class['index_bin']==False)&\n",
    "                           (lstm_class['TI']==True)&\n",
    "                           (lstm_class['time_step']=='5min')&\n",
    "                           (lstm_class['buckets']=='3')]\n",
    "\n",
    "print('lstm best-classification')\n",
    "print_results(lstm_class_best,['model'])"
   ]
  },
  {
   "cell_type": "code",
   "execution_count": 38,
   "metadata": {},
   "outputs": [
    {
     "name": "stdout",
     "output_type": "stream",
     "text": [
      "LSTM reg\n",
      "Results for lag_minute:\n",
      "   lag_minute      Mean  High   Low  Count\n",
      "0           1  0.489615  0.53  0.45     26\n",
      "2          15  0.488235  0.58  0.37    102\n",
      "1           5  0.471818  0.59  0.41     22\n",
      "Results for dif_all:\n",
      "   dif_all      Mean  High   Low  Count\n",
      "0    False  0.491961  0.57  0.42     51\n",
      "1     True  0.483030  0.59  0.37     99\n",
      "Results for index_bin:\n",
      "   index_bin      Mean  High   Low  Count\n",
      "0      False  0.495484  0.58  0.41     62\n",
      "1       True  0.479432  0.59  0.37     88\n",
      "Results for TI:\n",
      "      TI      Mean  High   Low  Count\n",
      "0  False  0.494571  0.57  0.42     70\n",
      "1   True  0.478625  0.59  0.37     80\n",
      "Results for time_step:\n",
      "  time_step    Mean  High   Low  Count\n",
      "0     15min  0.5076  0.58  0.42     50\n",
      "1      1min  0.4898  0.54  0.44     50\n",
      "2      5min  0.4608  0.59  0.37     50\n",
      "Results for buckets:\n",
      "  buckets      Mean  High   Low  Count\n",
      "0    None  0.486067  0.59  0.37    150\n"
     ]
    }
   ],
   "source": [
    "print('LSTM reg')\n",
    "print_results(lstm_reg,['lag_minute','dif_all','index_bin','TI','time_step','buckets'])"
   ]
  },
  {
   "cell_type": "code",
   "execution_count": 39,
   "metadata": {},
   "outputs": [
    {
     "name": "stdout",
     "output_type": "stream",
     "text": [
      "         model  lag_minute  dif_all  index_bin     TI  bin_accuracy time_step  \\\n",
      "1110  lstm_reg           5     True       True   True          0.59      5min   \n",
      "936   lstm_reg          15     True      False   True          0.58     15min   \n",
      "917   lstm_reg          15     True      False  False          0.57     15min   \n",
      "942   lstm_reg          15    False       True   True          0.57     15min   \n",
      "938   lstm_reg          15    False       True   True          0.56     15min   \n",
      "\n",
      "     buckets  \n",
      "1110    None  \n",
      "936     None  \n",
      "917     None  \n",
      "942     None  \n",
      "938     None  \n"
     ]
    }
   ],
   "source": [
    "print(lstm_reg.head(5)[['model','lag_minute','dif_all','index_bin','TI','bin_accuracy','time_step','buckets']])"
   ]
  },
  {
   "cell_type": "code",
   "execution_count": 40,
   "metadata": {},
   "outputs": [
    {
     "name": "stdout",
     "output_type": "stream",
     "text": [
      "lstm best-reg\n",
      "Results for model:\n",
      "      model  Mean  High   Low  Count\n",
      "0  lstm_reg  0.42  0.42  0.42      1\n"
     ]
    }
   ],
   "source": [
    "lstm_reg_best = lstm_reg[(lstm_reg['lag_minute']==15)&\n",
    "                           (lstm_reg['dif_all']==True)&\n",
    "                           (lstm_reg['index_bin']==True)&\n",
    "                           (lstm_reg['TI']==True)&\n",
    "                           (lstm_reg['time_step']=='15min')]\n",
    "\n",
    "print('lstm best-reg')\n",
    "print_results(lstm_reg_best,['model'])"
   ]
  },
  {
   "cell_type": "code",
   "execution_count": null,
   "metadata": {},
   "outputs": [],
   "source": [
    "#Ej använt\n",
    "\n",
    "test_path = 'Optimizer\\data_optimization\\All_results'\n",
    "keywords = ['class','_5min']\n",
    "\n",
    "def concat_dataframes_with_keywords(folder_path, *keywords):\n",
    "    \"\"\"\n",
    "    Concatenates all dataframes in csv files whose names contain all of the specified keywords,\n",
    "    and returns a single dataframe.\n",
    "    \"\"\"\n",
    "    dfs = []\n",
    "    for filename in os.listdir(folder_path):\n",
    "        if filename.endswith('.csv') and all(keyword in filename.lower() for keyword in keywords):\n",
    "            filepath = os.path.join(folder_path, filename)\n",
    "            df = pd.read_csv(filepath)\n",
    "            dfs.append(df)\n",
    "    concatenated_df = pd.concat(dfs, ignore_index=True)\n",
    "    return concatenated_df\n",
    "\n",
    "test_df = concat_dataframes_with_keywords(test_path,*keywords)\n",
    "\n"
   ]
  }
 ],
 "metadata": {
  "kernelspec": {
   "display_name": "base",
   "language": "python",
   "name": "python3"
  },
  "language_info": {
   "codemirror_mode": {
    "name": "ipython",
    "version": 3
   },
   "file_extension": ".py",
   "mimetype": "text/x-python",
   "name": "python",
   "nbconvert_exporter": "python",
   "pygments_lexer": "ipython3",
   "version": "3.9.13"
  },
  "orig_nbformat": 4
 },
 "nbformat": 4,
 "nbformat_minor": 2
}
